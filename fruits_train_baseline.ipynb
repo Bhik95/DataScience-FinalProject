{
 "cells": [
  {
   "cell_type": "code",
   "execution_count": 1,
   "metadata": {},
   "outputs": [],
   "source": [
    "import numpy as np\n",
    "import tensorflow.keras\n",
    "from tensorflow.keras import backend as K\n",
    "from tensorflow.keras.models import Sequential\n",
    "from tensorflow.keras.layers import *\n",
    "from tensorflow.keras.optimizers import Adam\n",
    "from tensorflow.keras.metrics import categorical_crossentropy\n",
    "from tensorflow.keras.preprocessing.image import ImageDataGenerator\n",
    "from tensorflow.keras.layers import BatchNormalization\n",
    "from tensorflow.keras.callbacks import ModelCheckpoint, EarlyStopping\n",
    "from tensorflow.keras.models import load_model\n",
    "\n",
    "import itertools\n",
    "import matplotlib.pyplot as plt\n",
    "from datetime import datetime\n",
    "%matplotlib inline\n",
    "import os"
   ]
  },
  {
   "cell_type": "code",
   "execution_count": 2,
   "metadata": {},
   "outputs": [],
   "source": [
    "train_path = 'fruits-360/Training'\n",
    "test_path = 'fruits-360/Test'\n",
    "classes = ['Apple Braeburn', 'Apple Crimson Snow', 'Apple Golden 1', 'Apple Golden 2', 'Apple Golden 3', 'Apple Granny Smith', 'Apple Pink Lady', 'Apple Red 1', 'Apple Red 2', 'Apple Red 3', 'Apple Red Delicious', 'Apple Red Yellow 1', 'Apple Red Yellow 2', 'Apricot', 'Avocado', 'Avocado ripe', 'Banana', 'Banana Lady Finger', 'Banana Red', 'Beetroot', 'Blueberry', 'Cactus fruit', 'Cantaloupe 1', 'Cantaloupe 2', 'Carambula', 'Cauliflower', 'Cherry 1', 'Cherry 2', 'Cherry Rainier', 'Cherry Wax Black', 'Cherry Wax Red', 'Cherry Wax Yellow', 'Chestnut', 'Clementine', 'Cocos', 'Corn', 'Corn Husk', 'Cucumber Ripe', 'Cucumber Ripe 2', 'Dates', 'Eggplant', 'Fig', 'Ginger Root', 'Granadilla', 'Grape Blue', 'Grape Pink', 'Grape White', 'Grape White 2', 'Grape White 3', 'Grape White 4', 'Grapefruit Pink', 'Grapefruit White', 'Guava', 'Hazelnut', 'Huckleberry', 'Kaki', 'Kiwi', 'Kohlrabi', 'Kumquats', 'Lemon', 'Lemon Meyer', 'Limes', 'Lychee', 'Mandarine', 'Mango', 'Mango Red', 'Mangostan', 'Maracuja', 'Melon Piel de Sapo', 'Mulberry', 'Nectarine', 'Nectarine Flat', 'Nut Forest', 'Nut Pecan', 'Onion Red', 'Onion Red Peeled', 'Onion White', 'Orange', 'Papaya', 'Passion Fruit', 'Peach', 'Peach 2', 'Peach Flat', 'Pear', 'Pear 2', 'Pear Abate', 'Pear Forelle', 'Pear Kaiser', 'Pear Monster', 'Pear Red', 'Pear Stone', 'Pear Williams', 'Pepino', 'Pepper Green', 'Pepper Orange', 'Pepper Red', 'Pepper Yellow', 'Physalis', 'Physalis with Husk', 'Pineapple', 'Pineapple Mini', 'Pitahaya Red', 'Plum', 'Plum 2', 'Plum 3', 'Pomegranate', 'Pomelo Sweetie', 'Potato Red', 'Potato Red Washed', 'Potato Sweet', 'Potato White', 'Quince', 'Rambutan', 'Raspberry', 'Redcurrant', 'Salak', 'Strawberry', 'Strawberry Wedge', 'Tamarillo', 'Tangelo', 'Tomato 1', 'Tomato 2', 'Tomato 3', 'Tomato 4', 'Tomato Cherry Red', 'Tomato Heart', 'Tomato Maroon', 'Tomato not Ripened', 'Tomato Yellow', 'Walnut', 'Watermelon']"
   ]
  },
  {
   "cell_type": "code",
   "execution_count": 3,
   "metadata": {},
   "outputs": [
    {
     "name": "stdout",
     "output_type": "stream",
     "text": [
      "Found 54190 images belonging to 131 classes.\n",
      "Found 13502 images belonging to 131 classes.\n",
      "Found 22688 images belonging to 131 classes.\n"
     ]
    }
   ],
   "source": [
    "#Data augmentation and validation split\n",
    "train_datagen = ImageDataGenerator(shear_range=0.1,\n",
    "    zoom_range=0.1,\n",
    "    horizontal_flip=True,\n",
    "    validation_split=0.2) # set validation split\n",
    "\n",
    "batch_size=50\n",
    "\n",
    "train_batches = train_datagen.flow_from_directory(train_path, target_size=(100,100), classes=classes, batch_size=batch_size, subset='training')\n",
    "validation_batches = train_datagen.flow_from_directory(train_path, target_size=(100,100), classes=classes, batch_size=batch_size, subset='validation')\n",
    "test_batches = ImageDataGenerator().flow_from_directory(test_path, target_size=(100,100), classes=classes, batch_size=batch_size)"
   ]
  },
  {
   "cell_type": "markdown",
   "metadata": {},
   "source": [
    "# Build and train CNN"
   ]
  },
  {
   "cell_type": "code",
   "execution_count": 4,
   "metadata": {},
   "outputs": [],
   "source": [
    "dropout_rate = 0.5\n",
    "\n",
    "model = Sequential([\n",
    "    Flatten(input_shape=(100,100,3)),#100x100x3\n",
    "    Dense(131, activation='softmax'),\n",
    "])"
   ]
  },
  {
   "cell_type": "code",
   "execution_count": 5,
   "metadata": {},
   "outputs": [],
   "source": [
    "learning_rate=0.05\n",
    "loss_function='categorical_crossentropy'\n",
    "model.compile(Adam(lr=learning_rate), loss=loss_function, metrics=['accuracy'])"
   ]
  },
  {
   "cell_type": "code",
   "execution_count": 6,
   "metadata": {},
   "outputs": [],
   "source": [
    "# datetime object containing current date and time\n",
    "now = datetime.now()\n",
    "# dd/mm/YY H:M:S\n",
    "dt_string = now.strftime(\"%d-%m-%Y_%H-%M-%S\")\n",
    "iter_count=0"
   ]
  },
  {
   "cell_type": "code",
   "execution_count": 7,
   "metadata": {},
   "outputs": [],
   "source": [
    "if not os.path.exists(\"models/baseline/\"):\n",
    "    os.mkdir(\"models/baseline\")\n",
    "if not os.path.exists(\"models/baseline/\"+dt_string):\n",
    "    os.mkdir(\"models/baseline/\"+dt_string)\n",
    "    \n",
    "summary_file = open(\"models/baseline/\"+dt_string+\"/summary.txt\", \"w\")\n",
    "\n",
    "def printModelSummaryToFile(line):\n",
    "    summary_file.write(line+\"\\n\")"
   ]
  },
  {
   "cell_type": "code",
   "execution_count": 8,
   "metadata": {},
   "outputs": [
    {
     "name": "stdout",
     "output_type": "stream",
     "text": [
      "Epoch 1/999\n",
      "1084/1084 - 140s - loss: 181854.5469 - accuracy: 0.3781 - val_loss: 52176.6562 - val_accuracy: 0.5707\n",
      "Epoch 2/999\n",
      "1084/1084 - 135s - loss: 55434.1680 - accuracy: 0.5975 - val_loss: 76666.9609 - val_accuracy: 0.5661\n",
      "Epoch 3/999\n",
      "1084/1084 - 134s - loss: 51623.8164 - accuracy: 0.6740 - val_loss: 54849.3711 - val_accuracy: 0.6863\n",
      "Epoch 4/999\n",
      "1084/1084 - 133s - loss: 47716.4141 - accuracy: 0.7224 - val_loss: 80328.9375 - val_accuracy: 0.6798\n",
      "Epoch 5/999\n",
      "1084/1084 - 135s - loss: 42466.2578 - accuracy: 0.7627 - val_loss: 74390.2109 - val_accuracy: 0.7025\n",
      "Epoch 6/999\n",
      "1084/1084 - 134s - loss: 41487.3164 - accuracy: 0.7824 - val_loss: 88921.0391 - val_accuracy: 0.6681\n",
      "Epoch 7/999\n",
      "1084/1084 - 134s - loss: 38718.5312 - accuracy: 0.8039 - val_loss: 73126.8047 - val_accuracy: 0.7251\n",
      "Epoch 8/999\n",
      "1084/1084 - 133s - loss: 32397.0723 - accuracy: 0.8316 - val_loss: 72387.3750 - val_accuracy: 0.7430\n",
      "Epoch 9/999\n",
      "1084/1084 - 134s - loss: 32482.0430 - accuracy: 0.8380 - val_loss: 85069.5859 - val_accuracy: 0.7431\n",
      "Epoch 10/999\n",
      "1084/1084 - 134s - loss: 31529.6289 - accuracy: 0.8504 - val_loss: 66101.2031 - val_accuracy: 0.7674\n",
      "Epoch 11/999\n",
      "1084/1084 - 135s - loss: 30542.5547 - accuracy: 0.8559 - val_loss: 82885.8750 - val_accuracy: 0.7708\n",
      "Epoch 12/999\n",
      "1084/1084 - 136s - loss: 25934.6758 - accuracy: 0.8726 - val_loss: 84845.6484 - val_accuracy: 0.7686\n",
      "Epoch 13/999\n",
      "1084/1084 - 135s - loss: 28028.8164 - accuracy: 0.8752 - val_loss: 75541.6328 - val_accuracy: 0.7949\n",
      "Epoch 14/999\n",
      "1084/1084 - 134s - loss: 26392.4570 - accuracy: 0.8826 - val_loss: 83861.9688 - val_accuracy: 0.7791\n",
      "Epoch 15/999\n",
      "1084/1084 - 134s - loss: 25057.7344 - accuracy: 0.8875 - val_loss: 76209.4922 - val_accuracy: 0.8148\n",
      "Epoch 16/999\n",
      "1084/1084 - 130s - loss: 24303.1660 - accuracy: 0.8930 - val_loss: 82844.0859 - val_accuracy: 0.7943\n",
      "Epoch 17/999\n",
      "1084/1084 - 130s - loss: 24076.7559 - accuracy: 0.8975 - val_loss: 74898.0938 - val_accuracy: 0.8232\n",
      "Epoch 18/999\n",
      "1084/1084 - 129s - loss: 21878.0645 - accuracy: 0.9045 - val_loss: 89494.6172 - val_accuracy: 0.7838\n",
      "Epoch 19/999\n",
      "1084/1084 - 129s - loss: 22514.7070 - accuracy: 0.9055 - val_loss: 93522.2422 - val_accuracy: 0.7914\n",
      "Epoch 20/999\n",
      "1084/1084 - 129s - loss: 20582.9395 - accuracy: 0.9112 - val_loss: 94063.9375 - val_accuracy: 0.8188\n",
      "Epoch 21/999\n",
      "1084/1084 - 129s - loss: 21416.9824 - accuracy: 0.9110 - val_loss: 81656.3984 - val_accuracy: 0.8303\n",
      "Epoch 22/999\n",
      "1084/1084 - 129s - loss: 18387.5938 - accuracy: 0.9197 - val_loss: 78607.7422 - val_accuracy: 0.8472\n",
      "Epoch 23/999\n",
      "1084/1084 - 130s - loss: 20324.7285 - accuracy: 0.9189 - val_loss: 97388.3281 - val_accuracy: 0.7924\n",
      "Epoch 24/999\n",
      "1084/1084 - 130s - loss: 21212.3125 - accuracy: 0.9178 - val_loss: 100273.5312 - val_accuracy: 0.8169\n",
      "Epoch 25/999\n",
      "1084/1084 - 131s - loss: 17048.0723 - accuracy: 0.9290 - val_loss: 83962.6719 - val_accuracy: 0.8224\n",
      "Epoch 26/999\n",
      "1084/1084 - 130s - loss: 18755.7832 - accuracy: 0.9258 - val_loss: 99634.7578 - val_accuracy: 0.8076\n",
      "Epoch 27/999\n",
      "1084/1084 - 130s - loss: 17135.9922 - accuracy: 0.9309 - val_loss: 88527.6406 - val_accuracy: 0.8266\n",
      "Epoch 28/999\n",
      "1084/1084 - 129s - loss: 17186.3379 - accuracy: 0.9305 - val_loss: 95206.3203 - val_accuracy: 0.8385\n",
      "Epoch 29/999\n",
      "1084/1084 - 129s - loss: 16136.1924 - accuracy: 0.9347 - val_loss: 84260.8047 - val_accuracy: 0.8297\n",
      "Epoch 30/999\n",
      "1084/1084 - 129s - loss: 16493.5234 - accuracy: 0.9350 - val_loss: 82340.1172 - val_accuracy: 0.8449\n",
      "Epoch 31/999\n",
      "1084/1084 - 129s - loss: 17022.6230 - accuracy: 0.9344 - val_loss: 121106.3750 - val_accuracy: 0.8211\n",
      "Epoch 32/999\n",
      "1084/1084 - 129s - loss: 16117.2549 - accuracy: 0.9373 - val_loss: 81938.7266 - val_accuracy: 0.8452\n",
      "Epoch 33/999\n",
      "1084/1084 - 129s - loss: 15108.4492 - accuracy: 0.9409 - val_loss: 86012.0469 - val_accuracy: 0.8517\n",
      "Epoch 34/999\n",
      "1084/1084 - 129s - loss: 15056.3252 - accuracy: 0.9446 - val_loss: 94833.6172 - val_accuracy: 0.8488\n",
      "Epoch 35/999\n",
      "1084/1084 - 129s - loss: 16068.9570 - accuracy: 0.9409 - val_loss: 78337.2812 - val_accuracy: 0.8667\n",
      "Epoch 36/999\n",
      "1084/1084 - 129s - loss: 14752.2324 - accuracy: 0.9429 - val_loss: 82305.3906 - val_accuracy: 0.8521\n",
      "Epoch 37/999\n",
      "1084/1084 - 131s - loss: 14278.3955 - accuracy: 0.9437 - val_loss: 106362.3203 - val_accuracy: 0.8165\n",
      "Epoch 38/999\n",
      "1084/1084 - 135s - loss: 14158.2480 - accuracy: 0.9471 - val_loss: 102907.9297 - val_accuracy: 0.8206\n",
      "Epoch 39/999\n",
      "1084/1084 - 129s - loss: 14049.1279 - accuracy: 0.9482 - val_loss: 99833.8828 - val_accuracy: 0.8391\n",
      "Epoch 40/999\n",
      "1084/1084 - 129s - loss: 13666.5762 - accuracy: 0.9478 - val_loss: 86227.3984 - val_accuracy: 0.8611\n",
      "Epoch 41/999\n",
      "1084/1084 - 129s - loss: 13478.6328 - accuracy: 0.9483 - val_loss: 105192.2734 - val_accuracy: 0.8498\n",
      "Epoch 42/999\n",
      "1084/1084 - 131s - loss: 14600.6621 - accuracy: 0.9489 - val_loss: 96804.0938 - val_accuracy: 0.8452\n",
      "Epoch 43/999\n",
      "1084/1084 - 131s - loss: 13016.7070 - accuracy: 0.9523 - val_loss: 83404.3047 - val_accuracy: 0.8624\n",
      "Epoch 44/999\n",
      "1084/1084 - 131s - loss: 14368.1670 - accuracy: 0.9497 - val_loss: 100853.4453 - val_accuracy: 0.8474\n",
      "Epoch 45/999\n",
      "1084/1084 - 130s - loss: 11943.3623 - accuracy: 0.9551 - val_loss: 111989.2891 - val_accuracy: 0.8394\n",
      "Epoch 46/999\n",
      "1084/1084 - 137s - loss: 12842.9014 - accuracy: 0.9539 - val_loss: 107080.2266 - val_accuracy: 0.8508\n",
      "Epoch 47/999\n",
      "1084/1084 - 137s - loss: 13521.5156 - accuracy: 0.9536 - val_loss: 86374.8125 - val_accuracy: 0.8664\n",
      "Epoch 48/999\n",
      "1084/1084 - 137s - loss: 13856.0332 - accuracy: 0.9536 - val_loss: 100635.1016 - val_accuracy: 0.8504\n",
      "Epoch 49/999\n",
      "1084/1084 - 136s - loss: 13102.5439 - accuracy: 0.9554 - val_loss: 111386.9766 - val_accuracy: 0.8532\n",
      "Epoch 50/999\n",
      "1084/1084 - 134s - loss: 12837.1240 - accuracy: 0.9553 - val_loss: 109896.2109 - val_accuracy: 0.8459\n",
      "Epoch 51/999\n",
      "1084/1084 - 134s - loss: 11168.1123 - accuracy: 0.9594 - val_loss: 105773.0000 - val_accuracy: 0.8525\n",
      "Epoch 52/999\n",
      "1084/1084 - 135s - loss: 10775.4023 - accuracy: 0.9592 - val_loss: 117603.8906 - val_accuracy: 0.8384\n",
      "Epoch 53/999\n",
      "1084/1084 - 135s - loss: 11860.5830 - accuracy: 0.9590 - val_loss: 126936.6484 - val_accuracy: 0.8378\n",
      "Epoch 54/999\n",
      "1084/1084 - 134s - loss: 11873.9746 - accuracy: 0.9577 - val_loss: 136190.9688 - val_accuracy: 0.8273\n",
      "Epoch 55/999\n",
      "1084/1084 - 134s - loss: 12494.7061 - accuracy: 0.9576 - val_loss: 113966.2188 - val_accuracy: 0.8464\n",
      "Epoch 56/999\n",
      "1084/1084 - 134s - loss: 10293.5498 - accuracy: 0.9629 - val_loss: 117641.6328 - val_accuracy: 0.8467\n",
      "Epoch 57/999\n",
      "1084/1084 - 134s - loss: 10851.3066 - accuracy: 0.9620 - val_loss: 108994.9766 - val_accuracy: 0.8485\n",
      "Epoch 58/999\n",
      "1084/1084 - 134s - loss: 10887.3281 - accuracy: 0.9610 - val_loss: 88385.7344 - val_accuracy: 0.8822\n",
      "Epoch 59/999\n",
      "1084/1084 - 131s - loss: 11293.1641 - accuracy: 0.9612 - val_loss: 122588.6875 - val_accuracy: 0.8314\n",
      "Epoch 60/999\n",
      "1084/1084 - 128s - loss: 11367.2354 - accuracy: 0.9640 - val_loss: 117158.2734 - val_accuracy: 0.8472\n",
      "Epoch 61/999\n",
      "1084/1084 - 128s - loss: 11410.1064 - accuracy: 0.9611 - val_loss: 100960.7422 - val_accuracy: 0.8607\n",
      "Epoch 62/999\n",
      "1084/1084 - 131s - loss: 10247.7119 - accuracy: 0.9653 - val_loss: 107637.1484 - val_accuracy: 0.8668\n",
      "Epoch 63/999\n",
      "1084/1084 - 140s - loss: 11703.9863 - accuracy: 0.9638 - val_loss: 122454.2812 - val_accuracy: 0.8400\n",
      "Epoch 64/999\n",
      "1084/1084 - 137s - loss: 11479.4395 - accuracy: 0.9621 - val_loss: 115715.2109 - val_accuracy: 0.8442\n",
      "Epoch 65/999\n",
      "1084/1084 - 135s - loss: 8438.3057 - accuracy: 0.9703 - val_loss: 109029.8906 - val_accuracy: 0.8721\n",
      "Epoch 66/999\n",
      "1084/1084 - 132s - loss: 9870.1602 - accuracy: 0.9661 - val_loss: 111314.7344 - val_accuracy: 0.8693\n",
      "Epoch 67/999\n",
      "1084/1084 - 128s - loss: 11785.3613 - accuracy: 0.9637 - val_loss: 95305.3594 - val_accuracy: 0.8631\n",
      "Epoch 68/999\n",
      "1084/1084 - 128s - loss: 8993.6846 - accuracy: 0.9684 - val_loss: 95599.0859 - val_accuracy: 0.8761\n",
      "Epoch 69/999\n",
      "1084/1084 - 128s - loss: 10607.7139 - accuracy: 0.9656 - val_loss: 140436.1875 - val_accuracy: 0.8448\n",
      "Epoch 70/999\n",
      "1084/1084 - 128s - loss: 11117.6865 - accuracy: 0.9648 - val_loss: 111269.6328 - val_accuracy: 0.8777\n",
      "Epoch 71/999\n",
      "1084/1084 - 128s - loss: 10093.4082 - accuracy: 0.9671 - val_loss: 113884.0703 - val_accuracy: 0.8616\n",
      "Epoch 72/999\n",
      "1084/1084 - 128s - loss: 10187.2471 - accuracy: 0.9673 - val_loss: 102122.7656 - val_accuracy: 0.8795\n"
     ]
    },
    {
     "name": "stdout",
     "output_type": "stream",
     "text": [
      "Epoch 73/999\n",
      "1084/1084 - 127s - loss: 9539.2646 - accuracy: 0.9693 - val_loss: 137228.0469 - val_accuracy: 0.8475\n",
      "Epoch 74/999\n",
      "1084/1084 - 128s - loss: 10540.4375 - accuracy: 0.9681 - val_loss: 115755.9531 - val_accuracy: 0.8646\n",
      "Epoch 75/999\n",
      "1084/1084 - 128s - loss: 8912.7188 - accuracy: 0.9722 - val_loss: 112960.7266 - val_accuracy: 0.8475\n",
      "Epoch 76/999\n",
      "1084/1084 - 128s - loss: 9435.0762 - accuracy: 0.9701 - val_loss: 114298.3594 - val_accuracy: 0.8723\n",
      "Epoch 77/999\n",
      "1084/1084 - 135s - loss: 9722.9268 - accuracy: 0.9692 - val_loss: 119234.3359 - val_accuracy: 0.8631\n",
      "Epoch 78/999\n",
      "1084/1084 - 134s - loss: 9220.0254 - accuracy: 0.9716 - val_loss: 122965.7969 - val_accuracy: 0.8724\n",
      "Epoch 79/999\n",
      "1084/1084 - 134s - loss: 9749.5332 - accuracy: 0.9695 - val_loss: 114770.0938 - val_accuracy: 0.8780\n",
      "Epoch 80/999\n",
      "1084/1084 - 135s - loss: 8788.9062 - accuracy: 0.9726 - val_loss: 123550.7734 - val_accuracy: 0.8703\n",
      "Epoch 81/999\n",
      "1084/1084 - 134s - loss: 9421.2070 - accuracy: 0.9706 - val_loss: 128710.9844 - val_accuracy: 0.8663\n",
      "Epoch 82/999\n",
      "1084/1084 - 134s - loss: 8500.5283 - accuracy: 0.9719 - val_loss: 124130.9219 - val_accuracy: 0.8550\n",
      "Epoch 83/999\n",
      "1084/1084 - 135s - loss: 8534.7158 - accuracy: 0.9729 - val_loss: 121608.9375 - val_accuracy: 0.8554\n",
      "Epoch 00083: early stopping\n"
     ]
    }
   ],
   "source": [
    "model.summary(print_fn=printModelSummaryToFile)\n",
    "summary_file.write(\"\\nLearning Rate: \"+str(learning_rate)+\"\\n\")\n",
    "summary_file.write(\"Loss Function: \"+str(loss_function)+\"\\n\")\n",
    "summary_file.write(\"Dropout Rate: \"+str(dropout_rate)+\"\\n\")\n",
    "summary_file.write(\"Batch Size: \"+str(batch_size)+\"\\n\")\n",
    "summary_file.close()\n",
    "\n",
    "#Callbacks\n",
    "es = EarlyStopping(monitor='val_accuracy', mode='max', verbose=1, patience=25)\n",
    "mc = ModelCheckpoint(\"models/baseline/\"+dt_string+\"/\"+dt_string+\"_best.h5\", monitor='val_accuracy', mode='max', save_best_only=True)\n",
    "\n",
    "start_time = datetime.now()\n",
    "\n",
    "history = model.fit(x=train_batches, validation_data=validation_batches, epochs=999, verbose=2, callbacks=[es, mc])\n",
    "\n",
    "end_time = datetime.now()\n",
    "time_delta =(end_time-start_time).total_seconds()\n",
    "\n",
    "summary_file = open(\"models/baseline/\"+dt_string+\"/summary.txt\", \"a\")\n",
    "summary_file.write(\"Time Train Start: \"+str(start_time)+\"\\n\")\n",
    "summary_file.write(\"Time Train End: \"+str(end_time)+\"\\n\")\n",
    "summary_file.write(\"Time Delta: \"+str(time_delta)+\"\\n\")\n",
    "summary_file.close()\n",
    "\n",
    "model.save(\"models/baseline/\"+dt_string+\"/\"+dt_string+\"_last.h5\")"
   ]
  },
  {
   "cell_type": "markdown",
   "metadata": {},
   "source": [
    "# Prediction"
   ]
  },
  {
   "cell_type": "code",
   "execution_count": 9,
   "metadata": {},
   "outputs": [],
   "source": [
    "best_model = load_model(\"models/baseline/\"+dt_string+\"/\"+dt_string+\"_best.h5\")"
   ]
  },
  {
   "cell_type": "code",
   "execution_count": 10,
   "metadata": {},
   "outputs": [],
   "source": [
    "test_imgs, test_labels = next(test_batches)"
   ]
  },
  {
   "cell_type": "code",
   "execution_count": 11,
   "metadata": {},
   "outputs": [
    {
     "data": {
      "text/plain": [
       "array([130, 101,  21, 128,   7,  30,  44, 120,  45,  82,  81,  79,  68,\n",
       "        50, 110,  84,  89,  44,  64,  16, 118,  10,  58,  98, 115, 117,\n",
       "        74,  23,  76,  42, 127,  59,  85,  80,  89,  34, 129,  59,  43,\n",
       "        17, 125, 122,  26,  18, 123, 122,  51,   9,  73, 130], dtype=int64)"
      ]
     },
     "execution_count": 11,
     "metadata": {},
     "output_type": "execute_result"
    }
   ],
   "source": [
    "test_labels = np.argmax(test_labels, axis=-1)\n",
    "test_labels"
   ]
  },
  {
   "cell_type": "code",
   "execution_count": 12,
   "metadata": {},
   "outputs": [],
   "source": [
    "predictions = np.argmax(best_model.predict(x=test_imgs, steps=1, verbose=0), axis=-1)"
   ]
  },
  {
   "cell_type": "code",
   "execution_count": 13,
   "metadata": {},
   "outputs": [
    {
     "data": {
      "text/plain": [
       "array([130, 101,  16, 128,   7,  30,  44, 120,  45,  84,  81,  79,  68,\n",
       "        50, 110,  84,  89,  44,  64,  17, 118,  10,  58,  98, 115, 117,\n",
       "        74,  23,  76,  42, 127,  59,  21, 105,  89,  34, 129,  59,  43,\n",
       "        17, 125, 122,  26,  18, 123, 122,  51,  37,  73, 130], dtype=int64)"
      ]
     },
     "execution_count": 13,
     "metadata": {},
     "output_type": "execute_result"
    }
   ],
   "source": [
    "predictions"
   ]
  },
  {
   "cell_type": "code",
   "execution_count": null,
   "metadata": {},
   "outputs": [],
   "source": []
  },
  {
   "cell_type": "code",
   "execution_count": 14,
   "metadata": {},
   "outputs": [
    {
     "data": {
      "image/png": "[encoded data removed]",
      "text/plain": [
       "<Figure size 432x288 with 1 Axes>"
      ]
     },
     "metadata": {
      "needs_background": "light"
     },
     "output_type": "display_data"
    },
    {
     "data": {
      "image/png": "[encoded data removed]",
      "text/plain": [
       "<Figure size 432x288 with 1 Axes>"
      ]
     },
     "metadata": {
      "needs_background": "light"
     },
     "output_type": "display_data"
    }
   ],
   "source": [
    "# plot training history\n",
    "plt.title('Loss')\n",
    "plt.plot(history.history['loss'], label='train')\n",
    "plt.plot(history.history['val_loss'], label='test')\n",
    "plt.legend()\n",
    "plt.savefig(\"models/baseline/\"+dt_string+\"/loss_history.png\", bbox_inches='tight')\n",
    "plt.show()\n",
    "\n",
    "plt.title('Accuracy')\n",
    "plt.plot(history.history['accuracy'], label='train')\n",
    "plt.plot(history.history['val_accuracy'], label='test')\n",
    "plt.legend()\n",
    "plt.savefig(\"models/baseline/\"+dt_string+\"/accuracy_history.png\", bbox_inches='tight')\n",
    "plt.show()"
   ]
  },
  {
   "cell_type": "code",
   "execution_count": 15,
   "metadata": {},
   "outputs": [
    {
     "name": "stdout",
     "output_type": "stream",
     "text": [
      "1084/1084 [==============================] - 110s 101ms/step - loss: 7454.1211 - accuracy: 0.9707\n",
      "454/454 [==============================] - 18s 41ms/step - loss: 88932.2266 - accuracy: 0.8811\n",
      "Train: 0.971, Test: 0.881\n"
     ]
    }
   ],
   "source": [
    "# evaluate the model\n",
    "_, train_acc = best_model.evaluate(train_batches, verbose=1)\n",
    "_, test_acc = best_model.evaluate(test_batches, verbose=1)\n",
    "print('Train: %.3f, Test: %.3f' % (train_acc, test_acc))\n",
    "summary_file = open(\"models/baseline/\"+dt_string+\"/summary.txt\", \"a\")\n",
    "summary_file.write(\"Train Accuracy: \"+str(train_acc)+\"\\n\")\n",
    "summary_file.write(\"Test Accuracy: \"+str(test_acc)+\"\\n\")\n",
    "summary_file.close()"
   ]
  },
  {
   "cell_type": "code",
   "execution_count": 16,
   "metadata": {},
   "outputs": [
    {
     "name": "stdout",
     "output_type": "stream",
     "text": [
      "Model: \"sequential\"\n",
      "_________________________________________________________________\n",
      "Layer (type)                 Output Shape              Param #   \n",
      "=================================================================\n",
      "flatten (Flatten)            (None, 30000)             0         \n",
      "_________________________________________________________________\n",
      "dense (Dense)                (None, 131)               3930131   \n",
      "=================================================================\n",
      "Total params: 3,930,131\n",
      "Trainable params: 3,930,131\n",
      "Non-trainable params: 0\n",
      "_________________________________________________________________\n"
     ]
    }
   ],
   "source": [
    "best_model.summary()"
   ]
  },
  {
   "cell_type": "code",
   "execution_count": null,
   "metadata": {},
   "outputs": [],
   "source": []
  },
  {
   "cell_type": "code",
   "execution_count": null,
   "metadata": {},
   "outputs": [],
   "source": []
  }
 ],
 "metadata": {
  "kernelspec": {
   "display_name": "Python 3",
   "language": "python",
   "name": "python3"
  },
  "language_info": {
   "codemirror_mode": {
    "name": "ipython",
    "version": 3
   },
   "file_extension": ".py",
   "mimetype": "text/x-python",
   "name": "python",
   "nbconvert_exporter": "python",
   "pygments_lexer": "ipython3",
   "version": "3.8.3"
  }
 },
 "nbformat": 4,
 "nbformat_minor": 4
}
