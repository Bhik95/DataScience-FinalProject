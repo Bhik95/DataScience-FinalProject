{
 "cells": [
  {
   "cell_type": "code",
   "execution_count": 1,
   "metadata": {},
   "outputs": [],
   "source": [
    "import numpy as np\n",
    "import tensorflow.keras\n",
    "from tensorflow.keras import backend as K\n",
    "from tensorflow.keras.models import Sequential\n",
    "from tensorflow.keras.layers import *\n",
    "from tensorflow.keras.optimizers import Adam\n",
    "from tensorflow.keras.metrics import categorical_crossentropy\n",
    "from tensorflow.keras.preprocessing.image import ImageDataGenerator\n",
    "from tensorflow.keras.layers import BatchNormalization\n",
    "from tensorflow.keras.callbacks import ModelCheckpoint, EarlyStopping\n",
    "from tensorflow.keras.models import load_model\n",
    "\n",
    "import itertools\n",
    "import matplotlib.pyplot as plt\n",
    "from datetime import datetime\n",
    "%matplotlib inline\n",
    "import os"
   ]
  },
  {
   "cell_type": "code",
   "execution_count": 2,
   "metadata": {},
   "outputs": [],
   "source": [
    "train_path = 'fruits-360/Training'\n",
    "test_path = 'fruits-360/Test'\n",
    "classes = ['Apple Braeburn', 'Apple Crimson Snow', 'Apple Golden 1', 'Apple Golden 2', 'Apple Golden 3', 'Apple Granny Smith', 'Apple Pink Lady', 'Apple Red 1', 'Apple Red 2', 'Apple Red 3', 'Apple Red Delicious', 'Apple Red Yellow 1', 'Apple Red Yellow 2', 'Apricot', 'Avocado', 'Avocado ripe', 'Banana', 'Banana Lady Finger', 'Banana Red', 'Beetroot', 'Blueberry', 'Cactus fruit', 'Cantaloupe 1', 'Cantaloupe 2', 'Carambula', 'Cauliflower', 'Cherry 1', 'Cherry 2', 'Cherry Rainier', 'Cherry Wax Black', 'Cherry Wax Red', 'Cherry Wax Yellow', 'Chestnut', 'Clementine', 'Cocos', 'Corn', 'Corn Husk', 'Cucumber Ripe', 'Cucumber Ripe 2', 'Dates', 'Eggplant', 'Fig', 'Ginger Root', 'Granadilla', 'Grape Blue', 'Grape Pink', 'Grape White', 'Grape White 2', 'Grape White 3', 'Grape White 4', 'Grapefruit Pink', 'Grapefruit White', 'Guava', 'Hazelnut', 'Huckleberry', 'Kaki', 'Kiwi', 'Kohlrabi', 'Kumquats', 'Lemon', 'Lemon Meyer', 'Limes', 'Lychee', 'Mandarine', 'Mango', 'Mango Red', 'Mangostan', 'Maracuja', 'Melon Piel de Sapo', 'Mulberry', 'Nectarine', 'Nectarine Flat', 'Nut Forest', 'Nut Pecan', 'Onion Red', 'Onion Red Peeled', 'Onion White', 'Orange', 'Papaya', 'Passion Fruit', 'Peach', 'Peach 2', 'Peach Flat', 'Pear', 'Pear 2', 'Pear Abate', 'Pear Forelle', 'Pear Kaiser', 'Pear Monster', 'Pear Red', 'Pear Stone', 'Pear Williams', 'Pepino', 'Pepper Green', 'Pepper Orange', 'Pepper Red', 'Pepper Yellow', 'Physalis', 'Physalis with Husk', 'Pineapple', 'Pineapple Mini', 'Pitahaya Red', 'Plum', 'Plum 2', 'Plum 3', 'Pomegranate', 'Pomelo Sweetie', 'Potato Red', 'Potato Red Washed', 'Potato Sweet', 'Potato White', 'Quince', 'Rambutan', 'Raspberry', 'Redcurrant', 'Salak', 'Strawberry', 'Strawberry Wedge', 'Tamarillo', 'Tangelo', 'Tomato 1', 'Tomato 2', 'Tomato 3', 'Tomato 4', 'Tomato Cherry Red', 'Tomato Heart', 'Tomato Maroon', 'Tomato not Ripened', 'Tomato Yellow', 'Walnut', 'Watermelon']"
   ]
  },
  {
   "cell_type": "code",
   "execution_count": 3,
   "metadata": {},
   "outputs": [
    {
     "name": "stdout",
     "output_type": "stream",
     "text": [
      "Found 54190 images belonging to 131 classes.\n",
      "Found 13502 images belonging to 131 classes.\n",
      "Found 22688 images belonging to 131 classes.\n"
     ]
    }
   ],
   "source": [
    "#Data augmentation and validation split\n",
    "train_datagen = ImageDataGenerator(\n",
    "    rescale=1./255,\n",
    "    shear_range=0.1,\n",
    "    zoom_range=0.1,\n",
    "    horizontal_flip=True,\n",
    "    validation_split=0.2) # set validation split\n",
    "\n",
    "batch_size=50\n",
    "\n",
    "train_batches = train_datagen.flow_from_directory(train_path, target_size=(100,100), classes=classes, batch_size=batch_size, subset='training')\n",
    "validation_batches = train_datagen.flow_from_directory(train_path, target_size=(100,100), classes=classes, batch_size=batch_size, subset='validation')\n",
    "test_batches = ImageDataGenerator(rescale=1./255).flow_from_directory(test_path, target_size=(100,100), classes=classes, batch_size=batch_size)"
   ]
  },
  {
   "cell_type": "markdown",
   "metadata": {},
   "source": [
    "# Build and train CNN"
   ]
  },
  {
   "cell_type": "code",
   "execution_count": 4,
   "metadata": {},
   "outputs": [],
   "source": [
    "dropout_rate = 0.5\n",
    "\n",
    "model = Sequential([\n",
    "    Conv2D(16, (3,3), activation='relu', input_shape=(100,100,3), padding='valid'),#100x100\n",
    "    MaxPooling2D(pool_size=(2, 2), strides=2),#98x98x16\n",
    "    Conv2D(32, (3,3), activation='relu', padding='valid'),#49x49x16\n",
    "    MaxPooling2D(pool_size=(2, 2), strides=2),#47x47x32\n",
    "    Conv2D(64, (3,3), activation='relu', padding='valid'),#23x23x32\n",
    "    MaxPooling2D(pool_size=(2, 2), strides=2),#21x21x64\n",
    "    Conv2D(128, (3,3), activation='relu', padding='valid'),#10x10x64\n",
    "    MaxPooling2D(pool_size=(2, 2), strides=2),#8x8x128\n",
    "    Conv2D(256, (3,3), activation='relu', padding='valid'),#4x4x128\n",
    "    Flatten(),#4x4x256\n",
    "    Dense(2048, activation='relu'),#4096\n",
    "    Dropout(dropout_rate),\n",
    "    Dense(512, activation='relu'),\n",
    "    Dropout(dropout_rate),\n",
    "    Dense(131, activation='softmax'),\n",
    "])"
   ]
  },
  {
   "cell_type": "code",
   "execution_count": 5,
   "metadata": {},
   "outputs": [],
   "source": [
    "learning_rate=1e-5\n",
    "loss_function='categorical_crossentropy'\n",
    "model.compile(Adam(lr=learning_rate), loss=loss_function, metrics=['accuracy'])"
   ]
  },
  {
   "cell_type": "code",
   "execution_count": 6,
   "metadata": {},
   "outputs": [],
   "source": [
    "# datetime object containing current date and time\n",
    "now = datetime.now()\n",
    "# dd/mm/YY H:M:S\n",
    "dt_string = now.strftime(\"%d-%m-%Y_%H-%M-%S\")\n",
    "iter_count=0"
   ]
  },
  {
   "cell_type": "code",
   "execution_count": 7,
   "metadata": {},
   "outputs": [],
   "source": [
    "if not os.path.exists(\"models/scratch\"+dt_string):\n",
    "    os.mkdir(\"models/scratch/\"+dt_string)\n",
    "    \n",
    "summary_file = open(\"models/scratch/\"+dt_string+\"/summary.txt\", \"w\")\n",
    "\n",
    "def printModelSummaryToFile(line):\n",
    "    summary_file.write(line+\"\\n\")"
   ]
  },
  {
   "cell_type": "code",
   "execution_count": 8,
   "metadata": {},
   "outputs": [
    {
     "name": "stdout",
     "output_type": "stream",
     "text": [
      "Epoch 1/999\n",
      "1084/1084 - 132s - loss: 5.5927 - accuracy: 0.0274 - val_loss: 4.2662 - val_accuracy: 0.1614\n",
      "Epoch 2/999\n",
      "1084/1084 - 131s - loss: 3.9323 - accuracy: 0.1331 - val_loss: 2.8394 - val_accuracy: 0.4236\n",
      "Epoch 3/999\n",
      "1084/1084 - 129s - loss: 2.8720 - accuracy: 0.2989 - val_loss: 1.7079 - val_accuracy: 0.6581\n",
      "Epoch 4/999\n",
      "1084/1084 - 129s - loss: 2.0572 - accuracy: 0.4580 - val_loss: 1.0710 - val_accuracy: 0.7690\n",
      "Epoch 5/999\n",
      "1084/1084 - 129s - loss: 1.5132 - accuracy: 0.5861 - val_loss: 0.7695 - val_accuracy: 0.8233\n",
      "Epoch 6/999\n",
      "1084/1084 - 129s - loss: 1.1320 - accuracy: 0.6770 - val_loss: 0.6033 - val_accuracy: 0.8463\n",
      "Epoch 7/999\n",
      "1084/1084 - 129s - loss: 0.8867 - accuracy: 0.7403 - val_loss: 0.5161 - val_accuracy: 0.8655\n",
      "Epoch 8/999\n",
      "1084/1084 - 128s - loss: 0.7104 - accuracy: 0.7887 - val_loss: 0.4426 - val_accuracy: 0.8845\n",
      "Epoch 9/999\n",
      "1084/1084 - 128s - loss: 0.5712 - accuracy: 0.8265 - val_loss: 0.3952 - val_accuracy: 0.9018\n",
      "Epoch 10/999\n",
      "1084/1084 - 128s - loss: 0.4727 - accuracy: 0.8544 - val_loss: 0.3826 - val_accuracy: 0.9042\n",
      "Epoch 11/999\n",
      "1084/1084 - 128s - loss: 0.3800 - accuracy: 0.8803 - val_loss: 0.3507 - val_accuracy: 0.9168\n",
      "Epoch 12/999\n",
      "1084/1084 - 128s - loss: 0.3275 - accuracy: 0.8970 - val_loss: 0.3461 - val_accuracy: 0.9175\n",
      "Epoch 13/999\n",
      "1084/1084 - 128s - loss: 0.2802 - accuracy: 0.9123 - val_loss: 0.3248 - val_accuracy: 0.9267\n",
      "Epoch 14/999\n",
      "1084/1084 - 128s - loss: 0.2412 - accuracy: 0.9233 - val_loss: 0.3083 - val_accuracy: 0.9285\n",
      "Epoch 15/999\n",
      "1084/1084 - 129s - loss: 0.2059 - accuracy: 0.9342 - val_loss: 0.2937 - val_accuracy: 0.9363\n",
      "Epoch 16/999\n",
      "1084/1084 - 128s - loss: 0.1824 - accuracy: 0.9417 - val_loss: 0.2894 - val_accuracy: 0.9384\n",
      "Epoch 17/999\n",
      "1084/1084 - 128s - loss: 0.1533 - accuracy: 0.9510 - val_loss: 0.2828 - val_accuracy: 0.9393\n",
      "Epoch 18/999\n",
      "1084/1084 - 129s - loss: 0.1350 - accuracy: 0.9579 - val_loss: 0.2808 - val_accuracy: 0.9414\n",
      "Epoch 19/999\n",
      "1084/1084 - 129s - loss: 0.1189 - accuracy: 0.9619 - val_loss: 0.2794 - val_accuracy: 0.9450\n",
      "Epoch 20/999\n",
      "1084/1084 - 129s - loss: 0.1087 - accuracy: 0.9650 - val_loss: 0.2820 - val_accuracy: 0.9452\n",
      "Epoch 21/999\n",
      "1084/1084 - 129s - loss: 0.0988 - accuracy: 0.9682 - val_loss: 0.2590 - val_accuracy: 0.9500\n",
      "Epoch 22/999\n",
      "1084/1084 - 128s - loss: 0.0866 - accuracy: 0.9727 - val_loss: 0.2605 - val_accuracy: 0.9476\n",
      "Epoch 23/999\n",
      "1084/1084 - 129s - loss: 0.0805 - accuracy: 0.9750 - val_loss: 0.2614 - val_accuracy: 0.9470\n",
      "Epoch 24/999\n",
      "1084/1084 - 129s - loss: 0.0652 - accuracy: 0.9796 - val_loss: 0.2879 - val_accuracy: 0.9486\n",
      "Epoch 25/999\n",
      "1084/1084 - 128s - loss: 0.0659 - accuracy: 0.9793 - val_loss: 0.2920 - val_accuracy: 0.9433\n",
      "Epoch 26/999\n",
      "1084/1084 - 128s - loss: 0.0602 - accuracy: 0.9808 - val_loss: 0.2770 - val_accuracy: 0.9520\n",
      "Epoch 27/999\n",
      "1084/1084 - 129s - loss: 0.0572 - accuracy: 0.9808 - val_loss: 0.2550 - val_accuracy: 0.9508\n",
      "Epoch 28/999\n",
      "1084/1084 - 129s - loss: 0.0507 - accuracy: 0.9839 - val_loss: 0.2836 - val_accuracy: 0.9502\n",
      "Epoch 29/999\n",
      "1084/1084 - 128s - loss: 0.0478 - accuracy: 0.9843 - val_loss: 0.2746 - val_accuracy: 0.9469\n",
      "Epoch 30/999\n",
      "1084/1084 - 128s - loss: 0.0440 - accuracy: 0.9861 - val_loss: 0.2705 - val_accuracy: 0.9476\n",
      "Epoch 31/999\n",
      "1084/1084 - 129s - loss: 0.0417 - accuracy: 0.9868 - val_loss: 0.2678 - val_accuracy: 0.9539\n",
      "Epoch 32/999\n",
      "1084/1084 - 129s - loss: 0.0373 - accuracy: 0.9884 - val_loss: 0.2743 - val_accuracy: 0.9556\n",
      "Epoch 33/999\n",
      "1084/1084 - 128s - loss: 0.0384 - accuracy: 0.9881 - val_loss: 0.2611 - val_accuracy: 0.9575\n",
      "Epoch 34/999\n",
      "1084/1084 - 129s - loss: 0.0315 - accuracy: 0.9904 - val_loss: 0.2688 - val_accuracy: 0.9548\n",
      "Epoch 35/999\n",
      "1084/1084 - 129s - loss: 0.0314 - accuracy: 0.9903 - val_loss: 0.2789 - val_accuracy: 0.9518\n",
      "Epoch 36/999\n",
      "1084/1084 - 129s - loss: 0.0279 - accuracy: 0.9911 - val_loss: 0.2825 - val_accuracy: 0.9536\n",
      "Epoch 37/999\n",
      "1084/1084 - 129s - loss: 0.0289 - accuracy: 0.9906 - val_loss: 0.2669 - val_accuracy: 0.9537\n",
      "Epoch 38/999\n",
      "1084/1084 - 128s - loss: 0.0280 - accuracy: 0.9910 - val_loss: 0.2743 - val_accuracy: 0.9540\n",
      "Epoch 39/999\n",
      "1084/1084 - 128s - loss: 0.0252 - accuracy: 0.9921 - val_loss: 0.2752 - val_accuracy: 0.9565\n",
      "Epoch 40/999\n",
      "1084/1084 - 128s - loss: 0.0230 - accuracy: 0.9930 - val_loss: 0.2713 - val_accuracy: 0.9565\n",
      "Epoch 41/999\n",
      "1084/1084 - 128s - loss: 0.0231 - accuracy: 0.9932 - val_loss: 0.2648 - val_accuracy: 0.9606\n",
      "Epoch 42/999\n",
      "1084/1084 - 128s - loss: 0.0218 - accuracy: 0.9934 - val_loss: 0.2704 - val_accuracy: 0.9565\n",
      "Epoch 43/999\n",
      "1084/1084 - 128s - loss: 0.0193 - accuracy: 0.9939 - val_loss: 0.2836 - val_accuracy: 0.9566\n",
      "Epoch 44/999\n",
      "1084/1084 - 128s - loss: 0.0193 - accuracy: 0.9938 - val_loss: 0.2824 - val_accuracy: 0.9530\n",
      "Epoch 45/999\n",
      "1084/1084 - 128s - loss: 0.0186 - accuracy: 0.9939 - val_loss: 0.2850 - val_accuracy: 0.9555\n",
      "Epoch 46/999\n",
      "1084/1084 - 128s - loss: 0.0192 - accuracy: 0.9940 - val_loss: 0.2825 - val_accuracy: 0.9551\n",
      "Epoch 47/999\n",
      "1084/1084 - 128s - loss: 0.0187 - accuracy: 0.9943 - val_loss: 0.3037 - val_accuracy: 0.9557\n",
      "Epoch 48/999\n",
      "1084/1084 - 128s - loss: 0.0167 - accuracy: 0.9946 - val_loss: 0.2979 - val_accuracy: 0.9557\n",
      "Epoch 49/999\n",
      "1084/1084 - 128s - loss: 0.0144 - accuracy: 0.9953 - val_loss: 0.3119 - val_accuracy: 0.9585\n",
      "Epoch 50/999\n",
      "1084/1084 - 128s - loss: 0.0143 - accuracy: 0.9955 - val_loss: 0.2637 - val_accuracy: 0.9569\n",
      "Epoch 51/999\n",
      "1084/1084 - 128s - loss: 0.0146 - accuracy: 0.9952 - val_loss: 0.2782 - val_accuracy: 0.9556\n",
      "Epoch 52/999\n",
      "1084/1084 - 128s - loss: 0.0157 - accuracy: 0.9950 - val_loss: 0.2718 - val_accuracy: 0.9576\n",
      "Epoch 53/999\n",
      "1084/1084 - 128s - loss: 0.0149 - accuracy: 0.9952 - val_loss: 0.2951 - val_accuracy: 0.9573\n",
      "Epoch 54/999\n",
      "1084/1084 - 128s - loss: 0.0138 - accuracy: 0.9956 - val_loss: 0.2789 - val_accuracy: 0.9597\n",
      "Epoch 55/999\n",
      "1084/1084 - 128s - loss: 0.0122 - accuracy: 0.9961 - val_loss: 0.2687 - val_accuracy: 0.9566\n",
      "Epoch 56/999\n",
      "1084/1084 - 128s - loss: 0.0118 - accuracy: 0.9962 - val_loss: 0.2651 - val_accuracy: 0.9599\n",
      "Epoch 57/999\n",
      "1084/1084 - 128s - loss: 0.0119 - accuracy: 0.9963 - val_loss: 0.2973 - val_accuracy: 0.9593\n",
      "Epoch 58/999\n",
      "1084/1084 - 128s - loss: 0.0118 - accuracy: 0.9962 - val_loss: 0.2862 - val_accuracy: 0.9624\n",
      "Epoch 59/999\n",
      "1084/1084 - 128s - loss: 0.0126 - accuracy: 0.9959 - val_loss: 0.2855 - val_accuracy: 0.9599\n",
      "Epoch 60/999\n",
      "1084/1084 - 128s - loss: 0.0103 - accuracy: 0.9967 - val_loss: 0.2861 - val_accuracy: 0.9595\n",
      "Epoch 61/999\n",
      "1084/1084 - 128s - loss: 0.0105 - accuracy: 0.9966 - val_loss: 0.3058 - val_accuracy: 0.9591\n",
      "Epoch 62/999\n",
      "1084/1084 - 128s - loss: 0.0086 - accuracy: 0.9975 - val_loss: 0.2937 - val_accuracy: 0.9622\n",
      "Epoch 63/999\n",
      "1084/1084 - 128s - loss: 0.0097 - accuracy: 0.9970 - val_loss: 0.3045 - val_accuracy: 0.9581\n",
      "Epoch 64/999\n",
      "1084/1084 - 128s - loss: 0.0099 - accuracy: 0.9966 - val_loss: 0.3111 - val_accuracy: 0.9585\n",
      "Epoch 65/999\n",
      "1084/1084 - 128s - loss: 0.0101 - accuracy: 0.9968 - val_loss: 0.2799 - val_accuracy: 0.9644\n",
      "Epoch 66/999\n",
      "1084/1084 - 128s - loss: 0.0087 - accuracy: 0.9971 - val_loss: 0.3447 - val_accuracy: 0.9539\n",
      "Epoch 67/999\n",
      "1084/1084 - 128s - loss: 0.0084 - accuracy: 0.9975 - val_loss: 0.3143 - val_accuracy: 0.9599\n",
      "Epoch 68/999\n",
      "1084/1084 - 128s - loss: 0.0098 - accuracy: 0.9969 - val_loss: 0.2909 - val_accuracy: 0.9588\n",
      "Epoch 69/999\n",
      "1084/1084 - 128s - loss: 0.0066 - accuracy: 0.9977 - val_loss: 0.2601 - val_accuracy: 0.9633\n",
      "Epoch 70/999\n",
      "1084/1084 - 128s - loss: 0.0095 - accuracy: 0.9970 - val_loss: 0.2797 - val_accuracy: 0.9580\n",
      "Epoch 71/999\n",
      "1084/1084 - 128s - loss: 0.0090 - accuracy: 0.9972 - val_loss: 0.2962 - val_accuracy: 0.9634\n",
      "Epoch 72/999\n",
      "1084/1084 - 128s - loss: 0.0072 - accuracy: 0.9977 - val_loss: 0.2889 - val_accuracy: 0.9589\n",
      "Epoch 73/999\n",
      "1084/1084 - 128s - loss: 0.0081 - accuracy: 0.9975 - val_loss: 0.2548 - val_accuracy: 0.9617\n",
      "Epoch 74/999\n",
      "1084/1084 - 128s - loss: 0.0074 - accuracy: 0.9977 - val_loss: 0.2952 - val_accuracy: 0.9613\n",
      "Epoch 75/999\n",
      "1084/1084 - 128s - loss: 0.0079 - accuracy: 0.9974 - val_loss: 0.3212 - val_accuracy: 0.9619\n",
      "Epoch 76/999\n",
      "1084/1084 - 128s - loss: 0.0054 - accuracy: 0.9984 - val_loss: 0.2993 - val_accuracy: 0.9587\n",
      "Epoch 77/999\n",
      "1084/1084 - 129s - loss: 0.0079 - accuracy: 0.9974 - val_loss: 0.3096 - val_accuracy: 0.9607\n",
      "Epoch 78/999\n",
      "1084/1084 - 130s - loss: 0.0065 - accuracy: 0.9980 - val_loss: 0.2880 - val_accuracy: 0.9610\n"
     ]
    },
    {
     "name": "stdout",
     "output_type": "stream",
     "text": [
      "Epoch 79/999\n",
      "1084/1084 - 131s - loss: 0.0051 - accuracy: 0.9983 - val_loss: 0.3040 - val_accuracy: 0.9621\n",
      "Epoch 80/999\n",
      "1084/1084 - 129s - loss: 0.0071 - accuracy: 0.9978 - val_loss: 0.3182 - val_accuracy: 0.9622\n",
      "Epoch 81/999\n",
      "1084/1084 - 129s - loss: 0.0077 - accuracy: 0.9978 - val_loss: 0.2974 - val_accuracy: 0.9631\n",
      "Epoch 82/999\n",
      "1084/1084 - 129s - loss: 0.0070 - accuracy: 0.9977 - val_loss: 0.3235 - val_accuracy: 0.9570\n",
      "Epoch 83/999\n",
      "1084/1084 - 129s - loss: 0.0079 - accuracy: 0.9975 - val_loss: 0.3294 - val_accuracy: 0.9597\n",
      "Epoch 84/999\n",
      "1084/1084 - 129s - loss: 0.0055 - accuracy: 0.9982 - val_loss: 0.3280 - val_accuracy: 0.9573\n",
      "Epoch 85/999\n",
      "1084/1084 - 129s - loss: 0.0056 - accuracy: 0.9982 - val_loss: 0.3356 - val_accuracy: 0.9588\n",
      "Epoch 86/999\n",
      "1084/1084 - 129s - loss: 0.0069 - accuracy: 0.9980 - val_loss: 0.3029 - val_accuracy: 0.9618\n",
      "Epoch 87/999\n",
      "1084/1084 - 129s - loss: 0.0065 - accuracy: 0.9979 - val_loss: 0.3263 - val_accuracy: 0.9606\n",
      "Epoch 88/999\n",
      "1084/1084 - 129s - loss: 0.0062 - accuracy: 0.9980 - val_loss: 0.3028 - val_accuracy: 0.9601\n",
      "Epoch 89/999\n",
      "1084/1084 - 129s - loss: 0.0068 - accuracy: 0.9980 - val_loss: 0.3392 - val_accuracy: 0.9636\n",
      "Epoch 90/999\n",
      "1084/1084 - 129s - loss: 0.0067 - accuracy: 0.9977 - val_loss: 0.2880 - val_accuracy: 0.9636\n",
      "Epoch 00090: early stopping\n"
     ]
    }
   ],
   "source": [
    "model.summary(print_fn=printModelSummaryToFile)\n",
    "summary_file.write(\"\\nLearning Rate: \"+str(learning_rate)+\"\\n\")\n",
    "summary_file.write(\"Loss Function: \"+str(loss_function)+\"\\n\")\n",
    "summary_file.write(\"Dropout Rate: \"+str(dropout_rate)+\"\\n\")\n",
    "summary_file.write(\"Batch Size: \"+str(batch_size)+\"\\n\")\n",
    "summary_file.close()\n",
    "\n",
    "#Callbacks\n",
    "es = EarlyStopping(monitor='val_accuracy', mode='max', verbose=1, patience=25)\n",
    "mc = ModelCheckpoint(\"models/scratch/\"+dt_string+\"/\"+dt_string+\"_best.h5\", monitor='val_accuracy', mode='max', save_best_only=True)\n",
    "\n",
    "start_time = datetime.now()\n",
    "\n",
    "history = model.fit(x=train_batches, validation_data=validation_batches, epochs=999, verbose=2, callbacks=[es, mc])\n",
    "\n",
    "end_time = datetime.now()\n",
    "time_delta =(end_time-start_time).total_seconds()\n",
    "\n",
    "summary_file = open(\"models/scratch/\"+dt_string+\"/summary.txt\", \"a\")\n",
    "summary_file.write(\"Time Train Start: \"+str(start_time)+\"\\n\")\n",
    "summary_file.write(\"Time Train End: \"+str(end_time)+\"\\n\")\n",
    "summary_file.write(\"Time Delta: \"+str(time_delta)+\"\\n\")\n",
    "summary_file.close()\n",
    "\n",
    "model.save(\"models/scratch/\"+dt_string+\"/\"+dt_string+\"_last.h5\")"
   ]
  },
  {
   "cell_type": "markdown",
   "metadata": {},
   "source": [
    "# Prediction"
   ]
  },
  {
   "cell_type": "code",
   "execution_count": 9,
   "metadata": {},
   "outputs": [],
   "source": [
    "best_model = load_model(\"models/scratch/\"+dt_string+\"/\"+dt_string+\"_best.h5\")"
   ]
  },
  {
   "cell_type": "code",
   "execution_count": 10,
   "metadata": {},
   "outputs": [],
   "source": [
    "test_imgs, test_labels = next(test_batches)"
   ]
  },
  {
   "cell_type": "code",
   "execution_count": 11,
   "metadata": {},
   "outputs": [
    {
     "data": {
      "text/plain": [
       "array([120,  34,  73,  14,  99,  31, 126, 126, 117,  41,  31,  27, 100,\n",
       "        46, 119, 113,  92,  55,  97,  55,  44,  12,  76,  84,  26,  31,\n",
       "        25,  28,  92,   9,  84,   8, 108,   4, 108,  33, 101,  94,  74,\n",
       "       127,  39,   7,  46,  41,  31, 108,   9, 105,  85,  41], dtype=int64)"
      ]
     },
     "execution_count": 11,
     "metadata": {},
     "output_type": "execute_result"
    }
   ],
   "source": [
    "test_labels = np.argmax(test_labels, axis=-1)\n",
    "test_labels"
   ]
  },
  {
   "cell_type": "code",
   "execution_count": 12,
   "metadata": {},
   "outputs": [],
   "source": [
    "predictions = np.argmax(best_model.predict(x=test_imgs, steps=1, verbose=0), axis=-1)"
   ]
  },
  {
   "cell_type": "code",
   "execution_count": 13,
   "metadata": {},
   "outputs": [
    {
     "data": {
      "text/plain": [
       "array([120,  34,  73,  14,  99,  31, 126, 126, 117,  41,  31,  27, 100,\n",
       "        46, 119, 113,  92,  55,  97,  55,  44,  12, 100,  84,  26,  31,\n",
       "        25,  28,  92,   9,  84,   8, 108,   4, 108,  33, 101,  94,  74,\n",
       "       127,  39,   7,  46,  41,  31, 108,   9, 105,  85,  41], dtype=int64)"
      ]
     },
     "execution_count": 13,
     "metadata": {},
     "output_type": "execute_result"
    }
   ],
   "source": [
    "predictions"
   ]
  },
  {
   "cell_type": "code",
   "execution_count": null,
   "metadata": {},
   "outputs": [],
   "source": []
  },
  {
   "cell_type": "code",
   "execution_count": 14,
   "metadata": {},
   "outputs": [
    {
     "data": {
      "image/png": "[encoded data removed]",
      "text/plain": [
       "<Figure size 432x288 with 1 Axes>"
      ]
     },
     "metadata": {
      "needs_background": "light"
     },
     "output_type": "display_data"
    },
    {
     "data": {
      "image/png": "[encoded data removed]",
      "text/plain": [
       "<Figure size 432x288 with 1 Axes>"
      ]
     },
     "metadata": {
      "needs_background": "light"
     },
     "output_type": "display_data"
    }
   ],
   "source": [
    "# plot training history\n",
    "plt.title('Loss')\n",
    "plt.plot(history.history['loss'], label='train')\n",
    "plt.plot(history.history['val_loss'], label='test')\n",
    "plt.legend()\n",
    "plt.savefig(\"models/scratch/\"+dt_string+\"/loss_history.png\", bbox_inches='tight')\n",
    "plt.show()\n",
    "\n",
    "plt.title('Accuracy')\n",
    "plt.plot(history.history['accuracy'], label='train')\n",
    "plt.plot(history.history['val_accuracy'], label='test')\n",
    "plt.legend()\n",
    "plt.savefig(\"models/scratch/\"+dt_string+\"/accuracy_history.png\", bbox_inches='tight')\n",
    "plt.show()"
   ]
  },
  {
   "cell_type": "code",
   "execution_count": 15,
   "metadata": {},
   "outputs": [
    {
     "name": "stdout",
     "output_type": "stream",
     "text": [
      "1084/1084 [==============================] - 103s 95ms/step - loss: 1.1930e-04 - accuracy: 1.0000 1:37 - loss: 1.0366e-04 - ac - ETA: 1:36 - los - ETA: 1:35 - loss: 1.014 - ETA: 1:34 - loss: 9.6775e-0 - ETA: 1:31 - loss: - ETA - ETA: 1:28 - loss: 7.8453e-05 - ac - ETA: 1: - ETA: 1:23 - loss: 7.2751e-05 - ac - ETA: 1:20 - loss: 7.5346e-05 - accuracy: 1.00 - ETA: 1:20 - loss: 7.5064e-05 - accura - ETA: 1:19 - loss: 8.1048e-05  - ETA: 59s - loss: 7.8733e-05 - accurac - ETA: 58s - loss: 7.8150e-05 - accuracy: 1.000 - ETA: 58s - l - ETA: 55s - l - ETA: 43s - loss: 9.1107e-05 - - ETA: 22s - loss: 1.1667e-04 - a - ETA:  - ETA: 17s - loss: 1. - ETA: 7s - loss: 1.242 - ETA: 6s - loss: 1 - ETA: 5s - loss: 1.2342e-04  - ETA: 4s - loss: 1.2248e - ETA: 1s - loss: 1.1\n",
      "454/454 [==============================] - 12s 26ms/step - loss: 0.2055 - accuracy: 0.9655\n",
      "Train: 1.000, Test: 0.965\n"
     ]
    }
   ],
   "source": [
    "# evaluate the model\n",
    "_, train_acc = best_model.evaluate(train_batches, verbose=1)\n",
    "_, test_acc = best_model.evaluate(test_batches, verbose=1)\n",
    "print('Train: %.3f, Test: %.3f' % (train_acc, test_acc))\n",
    "summary_file = open(\"models/scratch/\"+dt_string+\"/summary.txt\", \"a\")\n",
    "summary_file.write(\"Train Accuracy: \"+str(train_acc)+\"\\n\")\n",
    "summary_file.write(\"Test Accuracy: \"+str(test_acc)+\"\\n\")\n",
    "summary_file.close()"
   ]
  },
  {
   "cell_type": "code",
   "execution_count": 16,
   "metadata": {},
   "outputs": [
    {
     "name": "stdout",
     "output_type": "stream",
     "text": [
      "Model: \"sequential\"\n",
      "_________________________________________________________________\n",
      "Layer (type)                 Output Shape              Param #   \n",
      "=================================================================\n",
      "conv2d (Conv2D)              (None, 98, 98, 16)        448       \n",
      "_________________________________________________________________\n",
      "max_pooling2d (MaxPooling2D) (None, 49, 49, 16)        0         \n",
      "_________________________________________________________________\n",
      "conv2d_1 (Conv2D)            (None, 47, 47, 32)        4640      \n",
      "_________________________________________________________________\n",
      "max_pooling2d_1 (MaxPooling2 (None, 23, 23, 32)        0         \n",
      "_________________________________________________________________\n",
      "conv2d_2 (Conv2D)            (None, 21, 21, 64)        18496     \n",
      "_________________________________________________________________\n",
      "max_pooling2d_2 (MaxPooling2 (None, 10, 10, 64)        0         \n",
      "_________________________________________________________________\n",
      "conv2d_3 (Conv2D)            (None, 8, 8, 128)         73856     \n",
      "_________________________________________________________________\n",
      "max_pooling2d_3 (MaxPooling2 (None, 4, 4, 128)         0         \n",
      "_________________________________________________________________\n",
      "conv2d_4 (Conv2D)            (None, 2, 2, 256)         295168    \n",
      "_________________________________________________________________\n",
      "flatten (Flatten)            (None, 1024)              0         \n",
      "_________________________________________________________________\n",
      "dense (Dense)                (None, 2048)              2099200   \n",
      "_________________________________________________________________\n",
      "dropout (Dropout)            (None, 2048)              0         \n",
      "_________________________________________________________________\n",
      "dense_1 (Dense)              (None, 512)               1049088   \n",
      "_________________________________________________________________\n",
      "dropout_1 (Dropout)          (None, 512)               0         \n",
      "_________________________________________________________________\n",
      "dense_2 (Dense)              (None, 131)               67203     \n",
      "=================================================================\n",
      "Total params: 3,608,099\n",
      "Trainable params: 3,608,099\n",
      "Non-trainable params: 0\n",
      "_________________________________________________________________\n"
     ]
    }
   ],
   "source": [
    "best_model.summary()"
   ]
  },
  {
   "cell_type": "code",
   "execution_count": null,
   "metadata": {},
   "outputs": [],
   "source": []
  },
  {
   "cell_type": "code",
   "execution_count": null,
   "metadata": {},
   "outputs": [],
   "source": []
  }
 ],
 "metadata": {
  "kernelspec": {
   "display_name": "Python 3",
   "language": "python",
   "name": "python3"
  },
  "language_info": {
   "codemirror_mode": {
    "name": "ipython",
    "version": 3
   },
   "file_extension": ".py",
   "mimetype": "text/x-python",
   "name": "python",
   "nbconvert_exporter": "python",
   "pygments_lexer": "ipython3",
   "version": "3.8.3"
  }
 },
 "nbformat": 4,
 "nbformat_minor": 4
}
