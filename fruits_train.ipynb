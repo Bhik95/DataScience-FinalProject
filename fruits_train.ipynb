{
 "cells": [
  {
   "cell_type": "code",
   "execution_count": 1,
   "metadata": {},
   "outputs": [],
   "source": [
    "import numpy as np\n",
    "import tensorflow.keras\n",
    "from tensorflow.keras import backend as K\n",
    "from tensorflow.keras.models import Sequential\n",
    "from tensorflow.keras.layers import *\n",
    "from tensorflow.keras.optimizers import Adam\n",
    "from tensorflow.keras.metrics import categorical_crossentropy\n",
    "from tensorflow.keras.preprocessing.image import ImageDataGenerator\n",
    "from tensorflow.keras.layers import BatchNormalization\n",
    "from tensorflow.keras.callbacks import ModelCheckpoint, EarlyStopping\n",
    "from tensorflow.keras.models import load_model\n",
    "\n",
    "import itertools\n",
    "import matplotlib.pyplot as plt\n",
    "from datetime import datetime\n",
    "%matplotlib inline\n",
    "import os"
   ]
  },
  {
   "cell_type": "code",
   "execution_count": 2,
   "metadata": {},
   "outputs": [],
   "source": [
    "train_path = 'fruits-360/Training'\n",
    "test_path = 'fruits-360/Test'\n",
    "classes = ['Apple Braeburn', 'Apple Crimson Snow', 'Apple Golden 1', 'Apple Golden 2', 'Apple Golden 3', 'Apple Granny Smith', 'Apple Pink Lady', 'Apple Red 1', 'Apple Red 2', 'Apple Red 3', 'Apple Red Delicious', 'Apple Red Yellow 1', 'Apple Red Yellow 2', 'Apricot', 'Avocado', 'Avocado ripe', 'Banana', 'Banana Lady Finger', 'Banana Red', 'Beetroot', 'Blueberry', 'Cactus fruit', 'Cantaloupe 1', 'Cantaloupe 2', 'Carambula', 'Cauliflower', 'Cherry 1', 'Cherry 2', 'Cherry Rainier', 'Cherry Wax Black', 'Cherry Wax Red', 'Cherry Wax Yellow', 'Chestnut', 'Clementine', 'Cocos', 'Corn', 'Corn Husk', 'Cucumber Ripe', 'Cucumber Ripe 2', 'Dates', 'Eggplant', 'Fig', 'Ginger Root', 'Granadilla', 'Grape Blue', 'Grape Pink', 'Grape White', 'Grape White 2', 'Grape White 3', 'Grape White 4', 'Grapefruit Pink', 'Grapefruit White', 'Guava', 'Hazelnut', 'Huckleberry', 'Kaki', 'Kiwi', 'Kohlrabi', 'Kumquats', 'Lemon', 'Lemon Meyer', 'Limes', 'Lychee', 'Mandarine', 'Mango', 'Mango Red', 'Mangostan', 'Maracuja', 'Melon Piel de Sapo', 'Mulberry', 'Nectarine', 'Nectarine Flat', 'Nut Forest', 'Nut Pecan', 'Onion Red', 'Onion Red Peeled', 'Onion White', 'Orange', 'Papaya', 'Passion Fruit', 'Peach', 'Peach 2', 'Peach Flat', 'Pear', 'Pear 2', 'Pear Abate', 'Pear Forelle', 'Pear Kaiser', 'Pear Monster', 'Pear Red', 'Pear Stone', 'Pear Williams', 'Pepino', 'Pepper Green', 'Pepper Orange', 'Pepper Red', 'Pepper Yellow', 'Physalis', 'Physalis with Husk', 'Pineapple', 'Pineapple Mini', 'Pitahaya Red', 'Plum', 'Plum 2', 'Plum 3', 'Pomegranate', 'Pomelo Sweetie', 'Potato Red', 'Potato Red Washed', 'Potato Sweet', 'Potato White', 'Quince', 'Rambutan', 'Raspberry', 'Redcurrant', 'Salak', 'Strawberry', 'Strawberry Wedge', 'Tamarillo', 'Tangelo', 'Tomato 1', 'Tomato 2', 'Tomato 3', 'Tomato 4', 'Tomato Cherry Red', 'Tomato Heart', 'Tomato Maroon', 'Tomato not Ripened', 'Tomato Yellow', 'Walnut', 'Watermelon']"
   ]
  },
  {
   "cell_type": "code",
   "execution_count": 3,
   "metadata": {},
   "outputs": [
    {
     "name": "stdout",
     "output_type": "stream",
     "text": [
      "Found 54190 images belonging to 131 classes.\n",
      "Found 13502 images belonging to 131 classes.\n",
      "Found 22688 images belonging to 131 classes.\n"
     ]
    }
   ],
   "source": [
    "#Data augmentation and validation split\n",
    "train_datagen = ImageDataGenerator(\n",
    "    rescale=1./255,\n",
    "    shear_range=0.1,\n",
    "    zoom_range=0.1,\n",
    "    horizontal_flip=True,\n",
    "    validation_split=0.2) # set validation split\n",
    "\n",
    "batch_size=50\n",
    "\n",
    "train_batches = train_datagen.flow_from_directory(train_path, target_size=(100,100), classes=classes, batch_size=batch_size, subset='training')\n",
    "validation_batches = train_datagen.flow_from_directory(train_path, target_size=(100,100), classes=classes, batch_size=batch_size, subset='validation')\n",
    "test_batches = ImageDataGenerator(rescale=1./255).flow_from_directory(test_path, target_size=(100,100), classes=classes, batch_size=batch_size)"
   ]
  },
  {
   "cell_type": "markdown",
   "metadata": {},
   "source": [
    "# Build and train CNN"
   ]
  },
  {
   "cell_type": "code",
   "execution_count": 4,
   "metadata": {},
   "outputs": [],
   "source": [
    "dropout_rate = 0.5\n",
    "\n",
    "model = Sequential([\n",
    "    Conv2D(16, (3,3), activation='relu', input_shape=(100,100,3), padding='valid'),#100x100\n",
    "    MaxPooling2D(pool_size=(2, 2), strides=2),#98x98x16\n",
    "    Conv2D(32, (3,3), activation='relu', padding='valid'),#49x49x16\n",
    "    MaxPooling2D(pool_size=(2, 2), strides=2),#47x47x32\n",
    "    Conv2D(64, (3,3), activation='relu', padding='valid'),#23x23x32\n",
    "    MaxPooling2D(pool_size=(2, 2), strides=2),#21x21x64\n",
    "    Conv2D(128, (3,3), activation='relu', padding='valid'),#10x10x64\n",
    "    MaxPooling2D(pool_size=(2, 2), strides=2),#8x8x128\n",
    "    Conv2D(256, (3,3), activation='relu', padding='valid'),#4x4x128\n",
    "    Flatten(),#4x4x256\n",
    "    Dense(2048, activation='relu'),#4096\n",
    "    Dropout(dropout_rate),\n",
    "    Dense(512, activation='relu'),\n",
    "    Dropout(dropout_rate),\n",
    "    Dense(131, activation='softmax'),\n",
    "])"
   ]
  },
  {
   "cell_type": "code",
   "execution_count": 5,
   "metadata": {},
   "outputs": [],
   "source": [
    "learning_rate=1e-4\n",
    "loss_function='categorical_crossentropy'\n",
    "model.compile(Adam(lr=learning_rate), loss=loss_function, metrics=['accuracy'])"
   ]
  },
  {
   "cell_type": "code",
   "execution_count": 6,
   "metadata": {},
   "outputs": [],
   "source": [
    "# datetime object containing current date and time\n",
    "now = datetime.now()\n",
    "# dd/mm/YY H:M:S\n",
    "dt_string = now.strftime(\"%d-%m-%Y_%H-%M-%S\")\n",
    "iter_count=0"
   ]
  },
  {
   "cell_type": "code",
   "execution_count": 7,
   "metadata": {},
   "outputs": [],
   "source": [
    "if not os.path.exists(\"models/scratch\"+dt_string):\n",
    "    os.mkdir(\"models/scratch/\"+dt_string)\n",
    "    \n",
    "summary_file = open(\"models/scratch/\"+dt_string+\"/summary.txt\", \"w\")\n",
    "\n",
    "def printModelSummaryToFile(line):\n",
    "    summary_file.write(line+\"\\n\")"
   ]
  },
  {
   "cell_type": "code",
   "execution_count": 8,
   "metadata": {},
   "outputs": [
    {
     "name": "stdout",
     "output_type": "stream",
     "text": [
      "Epoch 1/999\n",
      "1084/1084 - 157s - loss: 2.9892 - accuracy: 0.2497 - val_loss: 1.2021 - val_accuracy: 0.6894\n",
      "Epoch 2/999\n",
      "1084/1084 - 135s - loss: 1.0298 - accuracy: 0.6774 - val_loss: 0.5758 - val_accuracy: 0.8441\n",
      "Epoch 3/999\n",
      "1084/1084 - 138s - loss: 0.5162 - accuracy: 0.8342 - val_loss: 0.4571 - val_accuracy: 0.8779\n",
      "Epoch 4/999\n",
      "1084/1084 - 138s - loss: 0.3041 - accuracy: 0.9006 - val_loss: 0.3313 - val_accuracy: 0.9122\n",
      "Epoch 5/999\n",
      "1084/1084 - 135s - loss: 0.2123 - accuracy: 0.9311 - val_loss: 0.3202 - val_accuracy: 0.9252\n",
      "Epoch 6/999\n",
      "1084/1084 - 134s - loss: 0.1547 - accuracy: 0.9482 - val_loss: 0.2911 - val_accuracy: 0.9350\n",
      "Epoch 7/999\n",
      "1084/1084 - 134s - loss: 0.1187 - accuracy: 0.9618 - val_loss: 0.2875 - val_accuracy: 0.9382\n",
      "Epoch 8/999\n",
      "1084/1084 - 133s - loss: 0.0980 - accuracy: 0.9685 - val_loss: 0.3085 - val_accuracy: 0.9351\n",
      "Epoch 9/999\n",
      "1084/1084 - 132s - loss: 0.0777 - accuracy: 0.9737 - val_loss: 0.3698 - val_accuracy: 0.9229\n",
      "Epoch 10/999\n",
      "1084/1084 - 134s - loss: 0.0733 - accuracy: 0.9753 - val_loss: 0.3229 - val_accuracy: 0.9380\n",
      "Epoch 11/999\n",
      "1084/1084 - 132s - loss: 0.0541 - accuracy: 0.9819 - val_loss: 0.3057 - val_accuracy: 0.9376\n",
      "Epoch 12/999\n",
      "1084/1084 - 134s - loss: 0.0566 - accuracy: 0.9814 - val_loss: 0.2613 - val_accuracy: 0.9513\n",
      "Epoch 13/999\n",
      "1084/1084 - 138s - loss: 0.0466 - accuracy: 0.9848 - val_loss: 0.2863 - val_accuracy: 0.9492\n",
      "Epoch 14/999\n",
      "1084/1084 - 136s - loss: 0.0423 - accuracy: 0.9859 - val_loss: 0.3423 - val_accuracy: 0.9415\n",
      "Epoch 15/999\n",
      "1084/1084 - 136s - loss: 0.0389 - accuracy: 0.9871 - val_loss: 0.2699 - val_accuracy: 0.9535\n",
      "Epoch 16/999\n",
      "1084/1084 - 134s - loss: 0.0394 - accuracy: 0.9871 - val_loss: 0.2770 - val_accuracy: 0.9596\n",
      "Epoch 17/999\n",
      "1084/1084 - 135s - loss: 0.0342 - accuracy: 0.9890 - val_loss: 0.2714 - val_accuracy: 0.9533\n",
      "Epoch 18/999\n",
      "1084/1084 - 136s - loss: 0.0324 - accuracy: 0.9895 - val_loss: 0.2899 - val_accuracy: 0.9507\n",
      "Epoch 19/999\n",
      "1084/1084 - 134s - loss: 0.0296 - accuracy: 0.9904 - val_loss: 0.2659 - val_accuracy: 0.9460\n",
      "Epoch 20/999\n",
      "1084/1084 - 136s - loss: 0.0287 - accuracy: 0.9906 - val_loss: 0.2635 - val_accuracy: 0.9550\n",
      "Epoch 21/999\n",
      "1084/1084 - 134s - loss: 0.0269 - accuracy: 0.9915 - val_loss: 0.2845 - val_accuracy: 0.9576\n",
      "Epoch 22/999\n",
      "1084/1084 - 137s - loss: 0.0253 - accuracy: 0.9916 - val_loss: 0.2796 - val_accuracy: 0.9513\n",
      "Epoch 23/999\n",
      "1084/1084 - 135s - loss: 0.0213 - accuracy: 0.9934 - val_loss: 0.2684 - val_accuracy: 0.9592\n",
      "Epoch 24/999\n",
      "1084/1084 - 140s - loss: 0.0232 - accuracy: 0.9926 - val_loss: 0.2793 - val_accuracy: 0.9563\n",
      "Epoch 25/999\n",
      "1084/1084 - 134s - loss: 0.0241 - accuracy: 0.9923 - val_loss: 0.2929 - val_accuracy: 0.9550\n",
      "Epoch 26/999\n",
      "1084/1084 - 136s - loss: 0.0194 - accuracy: 0.9936 - val_loss: 0.2990 - val_accuracy: 0.9554\n",
      "Epoch 27/999\n",
      "1084/1084 - 138s - loss: 0.0178 - accuracy: 0.9942 - val_loss: 0.2966 - val_accuracy: 0.9536\n",
      "Epoch 28/999\n",
      "1084/1084 - 146s - loss: 0.0208 - accuracy: 0.9932 - val_loss: 0.2898 - val_accuracy: 0.9511\n",
      "Epoch 29/999\n",
      "1084/1084 - 138s - loss: 0.0170 - accuracy: 0.9944 - val_loss: 0.2885 - val_accuracy: 0.9522\n",
      "Epoch 30/999\n",
      "1084/1084 - 133s - loss: 0.0193 - accuracy: 0.9936 - val_loss: 0.3091 - val_accuracy: 0.9536\n",
      "Epoch 31/999\n",
      "1084/1084 - 133s - loss: 0.0154 - accuracy: 0.9951 - val_loss: 0.3382 - val_accuracy: 0.9526\n",
      "Epoch 32/999\n",
      "1084/1084 - 132s - loss: 0.0170 - accuracy: 0.9943 - val_loss: 0.2509 - val_accuracy: 0.9432\n",
      "Epoch 33/999\n",
      "1084/1084 - 139s - loss: 0.0127 - accuracy: 0.9963 - val_loss: 0.2910 - val_accuracy: 0.9563\n",
      "Epoch 34/999\n",
      "1084/1084 - 137s - loss: 0.0164 - accuracy: 0.9947 - val_loss: 0.3225 - val_accuracy: 0.9512\n",
      "Epoch 35/999\n",
      "1084/1084 - 135s - loss: 0.0150 - accuracy: 0.9952 - val_loss: 0.2946 - val_accuracy: 0.9553\n",
      "Epoch 36/999\n",
      "1084/1084 - 135s - loss: 0.0144 - accuracy: 0.9957 - val_loss: 0.3634 - val_accuracy: 0.9532\n",
      "Epoch 37/999\n",
      "1084/1084 - 137s - loss: 0.0143 - accuracy: 0.9955 - val_loss: 0.2875 - val_accuracy: 0.9500\n",
      "Epoch 38/999\n",
      "1084/1084 - 137s - loss: 0.0129 - accuracy: 0.9957 - val_loss: 0.3150 - val_accuracy: 0.9547\n",
      "Epoch 39/999\n",
      "1084/1084 - 138s - loss: 0.0131 - accuracy: 0.9959 - val_loss: 0.3111 - val_accuracy: 0.9557\n",
      "Epoch 40/999\n",
      "1084/1084 - 136s - loss: 0.0129 - accuracy: 0.9959 - val_loss: 0.2658 - val_accuracy: 0.9528\n",
      "Epoch 41/999\n",
      "1084/1084 - 136s - loss: 0.0148 - accuracy: 0.9950 - val_loss: 0.3603 - val_accuracy: 0.9493\n",
      "Epoch 00041: early stopping\n"
     ]
    }
   ],
   "source": [
    "model.summary(print_fn=printModelSummaryToFile)\n",
    "summary_file.write(\"\\nLearning Rate: \"+str(learning_rate)+\"\\n\")\n",
    "summary_file.write(\"Loss Function: \"+str(loss_function)+\"\\n\")\n",
    "summary_file.write(\"Dropout Rate: \"+str(dropout_rate)+\"\\n\")\n",
    "summary_file.write(\"Batch Size: \"+str(batch_size)+\"\\n\")\n",
    "summary_file.close()\n",
    "\n",
    "#Callbacks\n",
    "es = EarlyStopping(monitor='val_accuracy', mode='max', verbose=1, patience=25)\n",
    "mc = ModelCheckpoint(\"models/scratch/\"+dt_string+\"/\"+dt_string+\"_best.h5\", monitor='val_accuracy', mode='max', save_best_only=True)\n",
    "\n",
    "start_time = datetime.now()\n",
    "\n",
    "history = model.fit(x=train_batches, validation_data=validation_batches, epochs=999, verbose=2, callbacks=[es, mc])\n",
    "\n",
    "end_time = datetime.now()\n",
    "time_delta =(end_time-start_time).total_seconds()\n",
    "\n",
    "summary_file = open(\"models/scratch/\"+dt_string+\"/summary.txt\", \"a\")\n",
    "summary_file.write(\"Time Train Start: \"+str(start_time)+\"\\n\")\n",
    "summary_file.write(\"Time Train End: \"+str(end_time)+\"\\n\")\n",
    "summary_file.write(\"Time Delta: \"+str(time_delta)+\"\\n\")\n",
    "summary_file.close()\n",
    "\n",
    "model.save(\"models/scratch/\"+dt_string+\"/\"+dt_string+\"_last.h5\")"
   ]
  },
  {
   "cell_type": "markdown",
   "metadata": {},
   "source": [
    "# Prediction"
   ]
  },
  {
   "cell_type": "code",
   "execution_count": 9,
   "metadata": {},
   "outputs": [],
   "source": [
    "best_model = load_model(\"models/scratch/\"+dt_string+\"/\"+dt_string+\"_best.h5\")"
   ]
  },
  {
   "cell_type": "code",
   "execution_count": 10,
   "metadata": {},
   "outputs": [],
   "source": [
    "test_imgs, test_labels = next(test_batches)"
   ]
  },
  {
   "cell_type": "code",
   "execution_count": 11,
   "metadata": {},
   "outputs": [
    {
     "data": {
      "text/plain": [
       "array([ 27,  64, 107,   8,  29,  87, 114,  13,  74,   3,  36,  27,  48,\n",
       "        28, 120,  38,  12,   4,  89, 116, 112, 130,  84,  27, 100, 117,\n",
       "       103, 105,   8,  55,   9,  44,   8,  21,  68, 125,  38, 108,  32,\n",
       "        51,  37,  78, 103,  40, 125,  41,  62,  41,  64,  88], dtype=int64)"
      ]
     },
     "execution_count": 11,
     "metadata": {},
     "output_type": "execute_result"
    }
   ],
   "source": [
    "test_labels = np.argmax(test_labels, axis=-1)\n",
    "test_labels"
   ]
  },
  {
   "cell_type": "code",
   "execution_count": 12,
   "metadata": {},
   "outputs": [],
   "source": [
    "predictions = np.argmax(best_model.predict(x=test_imgs, steps=1, verbose=0), axis=-1)"
   ]
  },
  {
   "cell_type": "code",
   "execution_count": 13,
   "metadata": {},
   "outputs": [
    {
     "data": {
      "text/plain": [
       "array([ 27,  64, 107,   8,  29,  87, 114,  13,  74,   3,  36,  27,  48,\n",
       "        28, 120,  38,  12,   4,  89, 116, 112, 130,  84,  27, 100, 117,\n",
       "       103, 105,   0,  55,   9,  44,   8,  21,  68, 125,  38, 108,  32,\n",
       "        51,  37,  78, 103,  40, 125,  41,  62,  41,  64,  88], dtype=int64)"
      ]
     },
     "execution_count": 13,
     "metadata": {},
     "output_type": "execute_result"
    }
   ],
   "source": [
    "predictions"
   ]
  },
  {
   "cell_type": "code",
   "execution_count": null,
   "metadata": {},
   "outputs": [],
   "source": []
  },
  {
   "cell_type": "code",
   "execution_count": 14,
   "metadata": {},
   "outputs": [
    {
     "data": {
      "image/png": "[encoded data removed]",
      "text/plain": [
       "<Figure size 432x288 with 1 Axes>"
      ]
     },
     "metadata": {
      "needs_background": "light"
     },
     "output_type": "display_data"
    },
    {
     "data": {
      "image/png": "[encoded data removed]",
      "text/plain": [
       "<Figure size 432x288 with 1 Axes>"
      ]
     },
     "metadata": {
      "needs_background": "light"
     },
     "output_type": "display_data"
    }
   ],
   "source": [
    "# plot training history\n",
    "plt.title('Loss')\n",
    "plt.plot(history.history['loss'], label='train')\n",
    "plt.plot(history.history['val_loss'], label='test')\n",
    "plt.legend()\n",
    "plt.savefig(\"models/scratch/\"+dt_string+\"/loss_history.png\", bbox_inches='tight')\n",
    "plt.show()\n",
    "\n",
    "plt.title('Accuracy')\n",
    "plt.plot(history.history['accuracy'], label='train')\n",
    "plt.plot(history.history['val_accuracy'], label='test')\n",
    "plt.legend()\n",
    "plt.savefig(\"models/scratch/\"+dt_string+\"/accuracy_history.png\", bbox_inches='tight')\n",
    "plt.show()"
   ]
  },
  {
   "cell_type": "code",
   "execution_count": 15,
   "metadata": {},
   "outputs": [
    {
     "name": "stdout",
     "output_type": "stream",
     "text": [
      "1084/1084 [==============================] - 108s 100ms/step - loss: 0.0025 - accuracy: 0.9994TA: 1:11 - loss: - ETA: 1: - ETA: 1:04 - loss: 0 - ETA - ETA: 57s - ETA: 54s - loss: 0.0027 - accuracy: 0.9 - ETA: - ETA: 46s - loss: 0.0026 - accuracy: 0. - ETA: 45s  - ETA: 42s - loss: 0.002 - ETA: 40s - ETA: 32s - loss: 0.0025 - accuracy: 0.99 - ETA: 32s - los - ETA: 29s - loss: 0.0025 - ac - ETA: 28s - - ET -\n",
      "454/454 [==============================] - 20s 43ms/step - loss: 0.2724 - accuracy: 0.9536\n",
      "Train: 0.999, Test: 0.954\n"
     ]
    }
   ],
   "source": [
    "# evaluate the model\n",
    "_, train_acc = best_model.evaluate(train_batches, verbose=1)\n",
    "_, test_acc = best_model.evaluate(test_batches, verbose=1)\n",
    "print('Train: %.3f, Test: %.3f' % (train_acc, test_acc))\n",
    "summary_file = open(\"models/scratch/\"+dt_string+\"/summary.txt\", \"a\")\n",
    "summary_file.write(\"Train Accuracy: \"+str(train_acc)+\"\\n\")\n",
    "summary_file.write(\"Test Accuracy: \"+str(test_acc)+\"\\n\")\n",
    "summary_file.close()"
   ]
  },
  {
   "cell_type": "code",
   "execution_count": 16,
   "metadata": {},
   "outputs": [
    {
     "name": "stdout",
     "output_type": "stream",
     "text": [
      "Model: \"sequential\"\n",
      "_________________________________________________________________\n",
      "Layer (type)                 Output Shape              Param #   \n",
      "=================================================================\n",
      "conv2d (Conv2D)              (None, 98, 98, 16)        448       \n",
      "_________________________________________________________________\n",
      "max_pooling2d (MaxPooling2D) (None, 49, 49, 16)        0         \n",
      "_________________________________________________________________\n",
      "conv2d_1 (Conv2D)            (None, 47, 47, 32)        4640      \n",
      "_________________________________________________________________\n",
      "max_pooling2d_1 (MaxPooling2 (None, 23, 23, 32)        0         \n",
      "_________________________________________________________________\n",
      "conv2d_2 (Conv2D)            (None, 21, 21, 64)        18496     \n",
      "_________________________________________________________________\n",
      "max_pooling2d_2 (MaxPooling2 (None, 10, 10, 64)        0         \n",
      "_________________________________________________________________\n",
      "conv2d_3 (Conv2D)            (None, 8, 8, 128)         73856     \n",
      "_________________________________________________________________\n",
      "max_pooling2d_3 (MaxPooling2 (None, 4, 4, 128)         0         \n",
      "_________________________________________________________________\n",
      "conv2d_4 (Conv2D)            (None, 2, 2, 256)         295168    \n",
      "_________________________________________________________________\n",
      "flatten (Flatten)            (None, 1024)              0         \n",
      "_________________________________________________________________\n",
      "dense (Dense)                (None, 2048)              2099200   \n",
      "_________________________________________________________________\n",
      "dropout (Dropout)            (None, 2048)              0         \n",
      "_________________________________________________________________\n",
      "dense_1 (Dense)              (None, 512)               1049088   \n",
      "_________________________________________________________________\n",
      "dropout_1 (Dropout)          (None, 512)               0         \n",
      "_________________________________________________________________\n",
      "dense_2 (Dense)              (None, 131)               67203     \n",
      "=================================================================\n",
      "Total params: 3,608,099\n",
      "Trainable params: 3,608,099\n",
      "Non-trainable params: 0\n",
      "_________________________________________________________________\n"
     ]
    }
   ],
   "source": [
    "best_model.summary()"
   ]
  },
  {
   "cell_type": "code",
   "execution_count": null,
   "metadata": {},
   "outputs": [],
   "source": []
  },
  {
   "cell_type": "code",
   "execution_count": null,
   "metadata": {},
   "outputs": [],
   "source": []
  }
 ],
 "metadata": {
  "kernelspec": {
   "display_name": "Python 3",
   "language": "python",
   "name": "python3"
  },
  "language_info": {
   "codemirror_mode": {
    "name": "ipython",
    "version": 3
   },
   "file_extension": ".py",
   "mimetype": "text/x-python",
   "name": "python",
   "nbconvert_exporter": "python",
   "pygments_lexer": "ipython3",
   "version": "3.8.3"
  }
 },
 "nbformat": 4,
 "nbformat_minor": 4
}
