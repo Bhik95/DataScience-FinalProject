{
 "cells": [
  {
   "cell_type": "code",
   "execution_count": 1,
   "metadata": {},
   "outputs": [],
   "source": [
    "import numpy as np\n",
    "import tensorflow.keras\n",
    "from tensorflow.keras import backend as K\n",
    "from tensorflow.keras.models import Sequential\n",
    "from tensorflow.keras.layers import *\n",
    "from tensorflow.keras.optimizers import Adam\n",
    "from tensorflow.keras.metrics import categorical_crossentropy\n",
    "from tensorflow.keras.preprocessing.image import ImageDataGenerator\n",
    "from tensorflow.keras.layers import BatchNormalization\n",
    "from tensorflow.keras.callbacks import ModelCheckpoint, EarlyStopping\n",
    "from tensorflow.keras.models import load_model\n",
    "\n",
    "import itertools\n",
    "import matplotlib.pyplot as plt\n",
    "from datetime import datetime\n",
    "%matplotlib inline\n",
    "import os"
   ]
  },
  {
   "cell_type": "code",
   "execution_count": 2,
   "metadata": {},
   "outputs": [],
   "source": [
    "train_path = 'fruits-360/Training'\n",
    "test_path = 'fruits-360/Test'\n",
    "classes = ['Apple Braeburn', 'Apple Crimson Snow', 'Apple Golden 1', 'Apple Golden 2', 'Apple Golden 3', 'Apple Granny Smith', 'Apple Pink Lady', 'Apple Red 1', 'Apple Red 2', 'Apple Red 3', 'Apple Red Delicious', 'Apple Red Yellow 1', 'Apple Red Yellow 2', 'Apricot', 'Avocado', 'Avocado ripe', 'Banana', 'Banana Lady Finger', 'Banana Red', 'Beetroot', 'Blueberry', 'Cactus fruit', 'Cantaloupe 1', 'Cantaloupe 2', 'Carambula', 'Cauliflower', 'Cherry 1', 'Cherry 2', 'Cherry Rainier', 'Cherry Wax Black', 'Cherry Wax Red', 'Cherry Wax Yellow', 'Chestnut', 'Clementine', 'Cocos', 'Corn', 'Corn Husk', 'Cucumber Ripe', 'Cucumber Ripe 2', 'Dates', 'Eggplant', 'Fig', 'Ginger Root', 'Granadilla', 'Grape Blue', 'Grape Pink', 'Grape White', 'Grape White 2', 'Grape White 3', 'Grape White 4', 'Grapefruit Pink', 'Grapefruit White', 'Guava', 'Hazelnut', 'Huckleberry', 'Kaki', 'Kiwi', 'Kohlrabi', 'Kumquats', 'Lemon', 'Lemon Meyer', 'Limes', 'Lychee', 'Mandarine', 'Mango', 'Mango Red', 'Mangostan', 'Maracuja', 'Melon Piel de Sapo', 'Mulberry', 'Nectarine', 'Nectarine Flat', 'Nut Forest', 'Nut Pecan', 'Onion Red', 'Onion Red Peeled', 'Onion White', 'Orange', 'Papaya', 'Passion Fruit', 'Peach', 'Peach 2', 'Peach Flat', 'Pear', 'Pear 2', 'Pear Abate', 'Pear Forelle', 'Pear Kaiser', 'Pear Monster', 'Pear Red', 'Pear Stone', 'Pear Williams', 'Pepino', 'Pepper Green', 'Pepper Orange', 'Pepper Red', 'Pepper Yellow', 'Physalis', 'Physalis with Husk', 'Pineapple', 'Pineapple Mini', 'Pitahaya Red', 'Plum', 'Plum 2', 'Plum 3', 'Pomegranate', 'Pomelo Sweetie', 'Potato Red', 'Potato Red Washed', 'Potato Sweet', 'Potato White', 'Quince', 'Rambutan', 'Raspberry', 'Redcurrant', 'Salak', 'Strawberry', 'Strawberry Wedge', 'Tamarillo', 'Tangelo', 'Tomato 1', 'Tomato 2', 'Tomato 3', 'Tomato 4', 'Tomato Cherry Red', 'Tomato Heart', 'Tomato Maroon', 'Tomato not Ripened', 'Tomato Yellow', 'Walnut', 'Watermelon']"
   ]
  },
  {
   "cell_type": "code",
   "execution_count": 3,
   "metadata": {},
   "outputs": [
    {
     "name": "stdout",
     "output_type": "stream",
     "text": [
      "Found 54190 images belonging to 131 classes.\n",
      "Found 13502 images belonging to 131 classes.\n",
      "Found 22688 images belonging to 131 classes.\n"
     ]
    }
   ],
   "source": [
    "#Data augmentation and validation split\n",
    "train_datagen = ImageDataGenerator(shear_range=0.1,\n",
    "    zoom_range=0.1,\n",
    "    horizontal_flip=True,\n",
    "    validation_split=0.2) # set validation split\n",
    "\n",
    "batch_size=50\n",
    "\n",
    "train_batches = train_datagen.flow_from_directory(train_path, target_size=(100,100), classes=classes, batch_size=batch_size, subset='training')\n",
    "validation_batches = train_datagen.flow_from_directory(train_path, target_size=(100,100), classes=classes, batch_size=batch_size, subset='validation')\n",
    "test_batches = ImageDataGenerator().flow_from_directory(test_path, target_size=(100,100), classes=classes, batch_size=batch_size)"
   ]
  },
  {
   "cell_type": "markdown",
   "metadata": {},
   "source": [
    "# Build and train CNN"
   ]
  },
  {
   "cell_type": "code",
   "execution_count": 4,
   "metadata": {},
   "outputs": [],
   "source": [
    "dropout_rate = 0.5\n",
    "\n",
    "model = Sequential([\n",
    "    Conv2D(16, (3,3), activation='relu', input_shape=(100,100,3), padding='valid'),#100x100\n",
    "    MaxPooling2D(pool_size=(2, 2), strides=2),#98x98x16\n",
    "    Conv2D(32, (3,3), activation='relu', padding='valid'),#49x49x16\n",
    "    MaxPooling2D(pool_size=(2, 2), strides=2),#47x47x32\n",
    "    Conv2D(64, (3,3), activation='relu', padding='valid'),#23x23x32\n",
    "    MaxPooling2D(pool_size=(2, 2), strides=2),#21x21x64\n",
    "    Conv2D(128, (3,3), activation='relu', padding='valid'),#10x10x64\n",
    "    MaxPooling2D(pool_size=(2, 2), strides=2),#8x8x128\n",
    "    Conv2D(256, (3,3), activation='relu', padding='valid'),#4x4x128\n",
    "    Flatten(),#4x4x256\n",
    "    Dense(2048, activation='relu'),#4096\n",
    "    Dropout(dropout_rate),\n",
    "    Dense(512, activation='relu'),\n",
    "    Dropout(dropout_rate),\n",
    "    Dense(131, activation='softmax'),\n",
    "])"
   ]
  },
  {
   "cell_type": "code",
   "execution_count": 5,
   "metadata": {},
   "outputs": [],
   "source": [
    "learning_rate=.00005\n",
    "loss_function='categorical_crossentropy'\n",
    "model.compile(Adam(lr=learning_rate), loss=loss_function, metrics=['accuracy'])"
   ]
  },
  {
   "cell_type": "code",
   "execution_count": 6,
   "metadata": {},
   "outputs": [],
   "source": [
    "# datetime object containing current date and time\n",
    "now = datetime.now()\n",
    "# dd/mm/YY H:M:S\n",
    "dt_string = now.strftime(\"%d-%m-%Y_%H-%M-%S\")\n",
    "iter_count=0"
   ]
  },
  {
   "cell_type": "code",
   "execution_count": 7,
   "metadata": {},
   "outputs": [],
   "source": [
    "if not os.path.exists(\"models/scratch\"+dt_string):\n",
    "    os.mkdir(\"models/scratch/\"+dt_string)\n",
    "    \n",
    "summary_file = open(\"models/scratch/\"+dt_string+\"/summary.txt\", \"w\")\n",
    "\n",
    "def printModelSummaryToFile(line):\n",
    "    summary_file.write(line+\"\\n\")"
   ]
  },
  {
   "cell_type": "code",
   "execution_count": 8,
   "metadata": {},
   "outputs": [
    {
     "name": "stdout",
     "output_type": "stream",
     "text": [
      "Epoch 1/999\n",
      "1084/1084 - 130s - loss: 3.3618 - accuracy: 0.2530 - val_loss: 0.9604 - val_accuracy: 0.7856\n",
      "Epoch 2/999\n",
      "1084/1084 - 129s - loss: 0.9652 - accuracy: 0.7200 - val_loss: 0.4393 - val_accuracy: 0.8839\n",
      "Epoch 3/999\n",
      "1084/1084 - 130s - loss: 0.4274 - accuracy: 0.8671 - val_loss: 0.3072 - val_accuracy: 0.9205\n",
      "Epoch 4/999\n",
      "1084/1084 - 130s - loss: 0.2411 - accuracy: 0.9244 - val_loss: 0.3036 - val_accuracy: 0.9275\n",
      "Epoch 5/999\n",
      "1084/1084 - 128s - loss: 0.1529 - accuracy: 0.9503 - val_loss: 0.2325 - val_accuracy: 0.9502\n",
      "Epoch 6/999\n",
      "1084/1084 - 128s - loss: 0.1055 - accuracy: 0.9662 - val_loss: 0.2573 - val_accuracy: 0.9449\n",
      "Epoch 7/999\n",
      "1084/1084 - 129s - loss: 0.0798 - accuracy: 0.9738 - val_loss: 0.2666 - val_accuracy: 0.9464\n",
      "Epoch 8/999\n",
      "1084/1084 - 129s - loss: 0.0671 - accuracy: 0.9778 - val_loss: 0.2291 - val_accuracy: 0.9533\n",
      "Epoch 9/999\n",
      "1084/1084 - 128s - loss: 0.0520 - accuracy: 0.9834 - val_loss: 0.2515 - val_accuracy: 0.9573\n",
      "Epoch 10/999\n",
      "1084/1084 - 128s - loss: 0.0425 - accuracy: 0.9862 - val_loss: 0.2394 - val_accuracy: 0.9588\n",
      "Epoch 11/999\n",
      "1084/1084 - 129s - loss: 0.0373 - accuracy: 0.9884 - val_loss: 0.2252 - val_accuracy: 0.9581\n",
      "Epoch 12/999\n",
      "1084/1084 - 128s - loss: 0.0330 - accuracy: 0.9899 - val_loss: 0.2657 - val_accuracy: 0.9565\n",
      "Epoch 13/999\n",
      "1084/1084 - 128s - loss: 0.0310 - accuracy: 0.9903 - val_loss: 0.2846 - val_accuracy: 0.9561\n",
      "Epoch 14/999\n",
      "1084/1084 - 129s - loss: 0.0270 - accuracy: 0.9917 - val_loss: 0.2555 - val_accuracy: 0.9558\n",
      "Epoch 15/999\n",
      "1084/1084 - 129s - loss: 0.0217 - accuracy: 0.9936 - val_loss: 0.2438 - val_accuracy: 0.9576\n",
      "Epoch 16/999\n",
      "1084/1084 - 130s - loss: 0.0225 - accuracy: 0.9930 - val_loss: 0.2325 - val_accuracy: 0.9614\n",
      "Epoch 17/999\n",
      "1084/1084 - 130s - loss: 0.0199 - accuracy: 0.9941 - val_loss: 0.2952 - val_accuracy: 0.9533\n",
      "Epoch 18/999\n",
      "1084/1084 - 130s - loss: 0.0197 - accuracy: 0.9938 - val_loss: 0.2467 - val_accuracy: 0.9636\n",
      "Epoch 19/999\n",
      "1084/1084 - 130s - loss: 0.0158 - accuracy: 0.9952 - val_loss: 0.2864 - val_accuracy: 0.9599\n",
      "Epoch 20/999\n",
      "1084/1084 - 130s - loss: 0.0171 - accuracy: 0.9945 - val_loss: 0.2721 - val_accuracy: 0.9642\n",
      "Epoch 21/999\n",
      "1084/1084 - 130s - loss: 0.0137 - accuracy: 0.9955 - val_loss: 0.2177 - val_accuracy: 0.9670\n",
      "Epoch 22/999\n",
      "1084/1084 - 129s - loss: 0.0133 - accuracy: 0.9958 - val_loss: 0.2723 - val_accuracy: 0.9599\n",
      "Epoch 23/999\n",
      "1084/1084 - 129s - loss: 0.0124 - accuracy: 0.9962 - val_loss: 0.2969 - val_accuracy: 0.9562\n",
      "Epoch 24/999\n",
      "1084/1084 - 128s - loss: 0.0137 - accuracy: 0.9954 - val_loss: 0.2773 - val_accuracy: 0.9610\n",
      "Epoch 25/999\n",
      "1084/1084 - 128s - loss: 0.0111 - accuracy: 0.9968 - val_loss: 0.2952 - val_accuracy: 0.9607\n",
      "Epoch 26/999\n",
      "1084/1084 - 129s - loss: 0.0139 - accuracy: 0.9956 - val_loss: 0.2563 - val_accuracy: 0.9627\n",
      "Epoch 27/999\n",
      "1084/1084 - 129s - loss: 0.0106 - accuracy: 0.9967 - val_loss: 0.2362 - val_accuracy: 0.9625\n",
      "Epoch 28/999\n",
      "1084/1084 - 129s - loss: 0.0117 - accuracy: 0.9967 - val_loss: 0.2632 - val_accuracy: 0.9616\n",
      "Epoch 29/999\n",
      "1084/1084 - 129s - loss: 0.0118 - accuracy: 0.9958 - val_loss: 0.2566 - val_accuracy: 0.9642\n",
      "Epoch 30/999\n",
      "1084/1084 - 130s - loss: 0.0077 - accuracy: 0.9975 - val_loss: 0.2299 - val_accuracy: 0.9686\n",
      "Epoch 31/999\n",
      "1084/1084 - 129s - loss: 0.0118 - accuracy: 0.9963 - val_loss: 0.2328 - val_accuracy: 0.9627\n",
      "Epoch 32/999\n",
      "1084/1084 - 129s - loss: 0.0070 - accuracy: 0.9978 - val_loss: 0.2305 - val_accuracy: 0.9690\n",
      "Epoch 33/999\n",
      "1084/1084 - 129s - loss: 0.0102 - accuracy: 0.9971 - val_loss: 0.2767 - val_accuracy: 0.9653\n",
      "Epoch 34/999\n",
      "1084/1084 - 129s - loss: 0.0058 - accuracy: 0.9983 - val_loss: 0.2232 - val_accuracy: 0.9680\n",
      "Epoch 35/999\n",
      "1084/1084 - 129s - loss: 0.0088 - accuracy: 0.9973 - val_loss: 0.2254 - val_accuracy: 0.9721\n",
      "Epoch 36/999\n",
      "1084/1084 - 128s - loss: 0.0069 - accuracy: 0.9977 - val_loss: 0.2377 - val_accuracy: 0.9614\n",
      "Epoch 37/999\n",
      "1084/1084 - 128s - loss: 0.0092 - accuracy: 0.9971 - val_loss: 0.2110 - val_accuracy: 0.9667\n",
      "Epoch 38/999\n",
      "1084/1084 - 129s - loss: 0.0075 - accuracy: 0.9978 - val_loss: 0.2704 - val_accuracy: 0.9602\n",
      "Epoch 39/999\n",
      "1084/1084 - 129s - loss: 0.0069 - accuracy: 0.9980 - val_loss: 0.2801 - val_accuracy: 0.9659\n",
      "Epoch 40/999\n",
      "1084/1084 - 129s - loss: 0.0072 - accuracy: 0.9978 - val_loss: 0.2739 - val_accuracy: 0.9649\n",
      "Epoch 41/999\n",
      "1084/1084 - 129s - loss: 0.0062 - accuracy: 0.9980 - val_loss: 0.2776 - val_accuracy: 0.9656\n",
      "Epoch 42/999\n",
      "1084/1084 - 129s - loss: 0.0077 - accuracy: 0.9975 - val_loss: 0.2696 - val_accuracy: 0.9682\n",
      "Epoch 43/999\n",
      "1084/1084 - 129s - loss: 0.0057 - accuracy: 0.9983 - val_loss: 0.2506 - val_accuracy: 0.9684\n",
      "Epoch 44/999\n",
      "1084/1084 - 128s - loss: 0.0044 - accuracy: 0.9986 - val_loss: 0.2727 - val_accuracy: 0.9709\n",
      "Epoch 45/999\n",
      "1084/1084 - 128s - loss: 0.0065 - accuracy: 0.9978 - val_loss: 0.2764 - val_accuracy: 0.9619\n",
      "Epoch 46/999\n",
      "1084/1084 - 129s - loss: 0.0073 - accuracy: 0.9980 - val_loss: 0.2865 - val_accuracy: 0.9660\n",
      "Epoch 47/999\n",
      "1084/1084 - 131s - loss: 0.0057 - accuracy: 0.9982 - val_loss: 0.2721 - val_accuracy: 0.9716\n",
      "Epoch 48/999\n",
      "1084/1084 - 130s - loss: 0.0046 - accuracy: 0.9986 - val_loss: 0.3305 - val_accuracy: 0.9602\n",
      "Epoch 49/999\n",
      "1084/1084 - 128s - loss: 0.0055 - accuracy: 0.9985 - val_loss: 0.3040 - val_accuracy: 0.9656\n",
      "Epoch 50/999\n",
      "1084/1084 - 128s - loss: 0.0058 - accuracy: 0.9981 - val_loss: 0.3357 - val_accuracy: 0.9644\n",
      "Epoch 51/999\n",
      "1084/1084 - 129s - loss: 0.0040 - accuracy: 0.9987 - val_loss: 0.3082 - val_accuracy: 0.9655\n",
      "Epoch 52/999\n",
      "1084/1084 - 129s - loss: 0.0066 - accuracy: 0.9983 - val_loss: 0.2985 - val_accuracy: 0.9665\n",
      "Epoch 53/999\n",
      "1084/1084 - 132s - loss: 0.0068 - accuracy: 0.9979 - val_loss: 0.2365 - val_accuracy: 0.9669\n",
      "Epoch 54/999\n",
      "1084/1084 - 129s - loss: 0.0040 - accuracy: 0.9988 - val_loss: 0.2543 - val_accuracy: 0.9616\n",
      "Epoch 55/999\n",
      "1084/1084 - 130s - loss: 0.0030 - accuracy: 0.9990 - val_loss: 0.2880 - val_accuracy: 0.9695\n",
      "Epoch 56/999\n",
      "1084/1084 - 129s - loss: 0.0056 - accuracy: 0.9984 - val_loss: 0.2849 - val_accuracy: 0.9656\n",
      "Epoch 57/999\n",
      "1084/1084 - 131s - loss: 0.0047 - accuracy: 0.9987 - val_loss: 0.2996 - val_accuracy: 0.9639\n",
      "Epoch 58/999\n",
      "1084/1084 - 129s - loss: 0.0044 - accuracy: 0.9986 - val_loss: 0.2768 - val_accuracy: 0.9665\n",
      "Epoch 59/999\n",
      "1084/1084 - 128s - loss: 0.0058 - accuracy: 0.9984 - val_loss: 0.1890 - val_accuracy: 0.9700\n",
      "Epoch 60/999\n",
      "1084/1084 - 129s - loss: 0.0038 - accuracy: 0.9988 - val_loss: 0.2443 - val_accuracy: 0.9709\n",
      "Epoch 00060: early stopping\n"
     ]
    }
   ],
   "source": [
    "model.summary(print_fn=printModelSummaryToFile)\n",
    "summary_file.write(\"\\nLearning Rate: \"+str(learning_rate)+\"\\n\")\n",
    "summary_file.write(\"Loss Function: \"+str(loss_function)+\"\\n\")\n",
    "summary_file.write(\"Dropout Rate: \"+str(dropout_rate)+\"\\n\")\n",
    "summary_file.write(\"Batch Size: \"+str(batch_size)+\"\\n\")\n",
    "summary_file.close()\n",
    "\n",
    "#Callbacks\n",
    "es = EarlyStopping(monitor='val_accuracy', mode='max', verbose=1, patience=25)\n",
    "mc = ModelCheckpoint(\"models/scratch/\"+dt_string+\"/\"+dt_string+\"_best.h5\", monitor='val_accuracy', mode='max', save_best_only=True)\n",
    "\n",
    "start_time = datetime.now()\n",
    "\n",
    "history = model.fit(x=train_batches, validation_data=validation_batches, epochs=999, verbose=2, callbacks=[es, mc])\n",
    "\n",
    "end_time = datetime.now()\n",
    "time_delta =(end_time-start_time).total_seconds()\n",
    "\n",
    "summary_file = open(\"models/scratch/\"+dt_string+\"/summary.txt\", \"a\")\n",
    "summary_file.write(\"Time Train Start: \"+str(start_time)+\"\\n\")\n",
    "summary_file.write(\"Time Train End: \"+str(end_time)+\"\\n\")\n",
    "summary_file.write(\"Time Delta: \"+str(time_delta)+\"\\n\")\n",
    "summary_file.close()\n",
    "\n",
    "model.save(\"models/scratch/\"+dt_string+\"/\"+dt_string+\"_last.h5\")"
   ]
  },
  {
   "cell_type": "markdown",
   "metadata": {},
   "source": [
    "# Prediction"
   ]
  },
  {
   "cell_type": "code",
   "execution_count": 9,
   "metadata": {},
   "outputs": [],
   "source": [
    "best_model = load_model(\"models/scratch/\"+dt_string+\"/\"+dt_string+\"_best.h5\")"
   ]
  },
  {
   "cell_type": "code",
   "execution_count": 10,
   "metadata": {},
   "outputs": [],
   "source": [
    "test_imgs, test_labels = next(test_batches)"
   ]
  },
  {
   "cell_type": "code",
   "execution_count": 11,
   "metadata": {},
   "outputs": [
    {
     "data": {
      "text/plain": [
       "array([ 92,  25, 120, 124,   5, 117,  18, 104,  27,  34, 102,  81, 122,\n",
       "        46,  47,  88,  67,   8, 114,  25, 104,  83,   9, 129,  21,  17,\n",
       "         5,   5,  63,  83,  62,  99,  80,   8,  83,  55,  28, 121,  41,\n",
       "        25,  44,  22,  28,  69,  23, 120,  41,  83, 118, 119], dtype=int64)"
      ]
     },
     "execution_count": 11,
     "metadata": {},
     "output_type": "execute_result"
    }
   ],
   "source": [
    "test_labels = np.argmax(test_labels, axis=-1)\n",
    "test_labels"
   ]
  },
  {
   "cell_type": "code",
   "execution_count": 12,
   "metadata": {},
   "outputs": [],
   "source": [
    "predictions = np.argmax(best_model.predict(x=test_imgs, steps=1, verbose=0), axis=-1)"
   ]
  },
  {
   "cell_type": "code",
   "execution_count": 13,
   "metadata": {},
   "outputs": [
    {
     "data": {
      "text/plain": [
       "array([ 92,  25, 120, 124,   5, 117,  18, 104,  27,  34, 102,  81, 122,\n",
       "        46,  47,  88,  67,   8, 114,  25, 104,  83,   9, 129,  21,  35,\n",
       "         5,   5,  63,  83,  62,  99,  80,   8,  83,  55,  28, 121,  41,\n",
       "        25,  44,  22,  28,  69,  23, 120,  41,  83, 118, 119], dtype=int64)"
      ]
     },
     "execution_count": 13,
     "metadata": {},
     "output_type": "execute_result"
    }
   ],
   "source": [
    "predictions"
   ]
  },
  {
   "cell_type": "code",
   "execution_count": null,
   "metadata": {},
   "outputs": [],
   "source": []
  },
  {
   "cell_type": "code",
   "execution_count": 18,
   "metadata": {},
   "outputs": [
    {
     "data": {
      "image/png": "[encoded data removed]",
      "text/plain": [
       "<Figure size 432x288 with 1 Axes>"
      ]
     },
     "metadata": {
      "needs_background": "light"
     },
     "output_type": "display_data"
    },
    {
     "data": {
      "image/png": "[encoded data removed]",
      "text/plain": [
       "<Figure size 432x288 with 1 Axes>"
      ]
     },
     "metadata": {
      "needs_background": "light"
     },
     "output_type": "display_data"
    }
   ],
   "source": [
    "# plot training history\n",
    "plt.title('Loss')\n",
    "plt.plot(history.history['loss'], label='train')\n",
    "plt.plot(history.history['val_loss'], label='test')\n",
    "plt.legend()\n",
    "plt.savefig(\"models/scratch/\"+dt_string+\"/loss_history.png\", bbox_inches='tight')\n",
    "plt.show()\n",
    "\n",
    "plt.title('Accuracy')\n",
    "plt.plot(history.history['accuracy'], label='train')\n",
    "plt.plot(history.history['val_accuracy'], label='test')\n",
    "plt.legend()\n",
    "plt.savefig(\"models/scratch/\"+dt_string+\"/accuracy_history.png\", bbox_inches='tight')\n",
    "plt.show()"
   ]
  },
  {
   "cell_type": "code",
   "execution_count": 15,
   "metadata": {},
   "outputs": [
    {
     "name": "stdout",
     "output_type": "stream",
     "text": [
      "1084/1084 [==============================] - 104s 96ms/step - loss: 7.1466e-05 - accuracy: 1.0000\n",
      "454/454 [==============================] - 10s 22ms/step - loss: 0.1847 - accuracy: 0.9693\n",
      "Train: 1.000, Test: 0.969\n"
     ]
    }
   ],
   "source": [
    "# evaluate the model\n",
    "_, train_acc = best_model.evaluate(train_batches, verbose=1)\n",
    "_, test_acc = best_model.evaluate(test_batches, verbose=1)\n",
    "print('Train: %.3f, Test: %.3f' % (train_acc, test_acc))\n",
    "summary_file = open(\"models/scratch/\"+dt_string+\"/summary.txt\", \"a\")\n",
    "summary_file.write(\"Train Accuracy: \"+str(train_acc)+\"\\n\")\n",
    "summary_file.write(\"Test Accuracy: \"+str(test_acc)+\"\\n\")\n",
    "summary_file.close()"
   ]
  },
  {
   "cell_type": "code",
   "execution_count": 16,
   "metadata": {},
   "outputs": [
    {
     "name": "stdout",
     "output_type": "stream",
     "text": [
      "Model: \"sequential\"\n",
      "_________________________________________________________________\n",
      "Layer (type)                 Output Shape              Param #   \n",
      "=================================================================\n",
      "conv2d (Conv2D)              (None, 98, 98, 16)        448       \n",
      "_________________________________________________________________\n",
      "max_pooling2d (MaxPooling2D) (None, 49, 49, 16)        0         \n",
      "_________________________________________________________________\n",
      "conv2d_1 (Conv2D)            (None, 47, 47, 32)        4640      \n",
      "_________________________________________________________________\n",
      "max_pooling2d_1 (MaxPooling2 (None, 23, 23, 32)        0         \n",
      "_________________________________________________________________\n",
      "conv2d_2 (Conv2D)            (None, 21, 21, 64)        18496     \n",
      "_________________________________________________________________\n",
      "max_pooling2d_2 (MaxPooling2 (None, 10, 10, 64)        0         \n",
      "_________________________________________________________________\n",
      "conv2d_3 (Conv2D)            (None, 8, 8, 128)         73856     \n",
      "_________________________________________________________________\n",
      "max_pooling2d_3 (MaxPooling2 (None, 4, 4, 128)         0         \n",
      "_________________________________________________________________\n",
      "conv2d_4 (Conv2D)            (None, 2, 2, 256)         295168    \n",
      "_________________________________________________________________\n",
      "flatten (Flatten)            (None, 1024)              0         \n",
      "_________________________________________________________________\n",
      "dense (Dense)                (None, 2048)              2099200   \n",
      "_________________________________________________________________\n",
      "dropout (Dropout)            (None, 2048)              0         \n",
      "_________________________________________________________________\n",
      "dense_1 (Dense)              (None, 512)               1049088   \n",
      "_________________________________________________________________\n",
      "dropout_1 (Dropout)          (None, 512)               0         \n",
      "_________________________________________________________________\n",
      "dense_2 (Dense)              (None, 131)               67203     \n",
      "=================================================================\n",
      "Total params: 3,608,099\n",
      "Trainable params: 3,608,099\n",
      "Non-trainable params: 0\n",
      "_________________________________________________________________\n"
     ]
    }
   ],
   "source": [
    "best_model.summary()"
   ]
  },
  {
   "cell_type": "code",
   "execution_count": null,
   "metadata": {},
   "outputs": [],
   "source": []
  },
  {
   "cell_type": "code",
   "execution_count": null,
   "metadata": {},
   "outputs": [],
   "source": []
  }
 ],
 "metadata": {
  "kernelspec": {
   "display_name": "Python 3",
   "language": "python",
   "name": "python3"
  },
  "language_info": {
   "codemirror_mode": {
    "name": "ipython",
    "version": 3
   },
   "file_extension": ".py",
   "mimetype": "text/x-python",
   "name": "python",
   "nbconvert_exporter": "python",
   "pygments_lexer": "ipython3",
   "version": "3.8.3"
  }
 },
 "nbformat": 4,
 "nbformat_minor": 4
}
